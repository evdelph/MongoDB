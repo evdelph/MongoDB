{
  "nbformat": 4,
  "nbformat_minor": 0,
  "metadata": {
    "colab": {
      "name": "RedditVisualization.ipynb",
      "provenance": [],
      "authorship_tag": "ABX9TyM+RJ71aPS31GRDjZo+4egh",
      "include_colab_link": true
    },
    "kernelspec": {
      "name": "python3",
      "display_name": "Python 3"
    },
    "language_info": {
      "name": "python"
    }
  },
  "cells": [
    {
      "cell_type": "markdown",
      "metadata": {
        "id": "view-in-github",
        "colab_type": "text"
      },
      "source": [
        "<a href=\"https://colab.research.google.com/github/evdelph/MongoDB/blob/main/RedditVisualization.ipynb\" target=\"_parent\"><img src=\"https://colab.research.google.com/assets/colab-badge.svg\" alt=\"Open In Colab\"/></a>"
      ]
    },
    {
      "cell_type": "code",
      "metadata": {
        "id": "aeIJh4UacRpE"
      },
      "source": [
        "!pip install pyLDAvis==2.1.2"
      ],
      "execution_count": null,
      "outputs": []
    },
    {
      "cell_type": "code",
      "metadata": {
        "colab": {
          "base_uri": "https://localhost:8080/"
        },
        "id": "pqObP4oxKKNI",
        "outputId": "2357cc62-1c0c-4c64-86a8-62b4cd58c240"
      },
      "source": [
        "import pandas as pd\n",
        "import numpy as np\n",
        "import json\n",
        "import nltk\n",
        "import gensim\n",
        "nltk.download('stopwords')\n",
        "from nltk.corpus import stopwords \n",
        "stop_words = list(stopwords.words('english')) \n",
        "import plotly.express as px\n",
        "import pyLDAvis\n",
        "import pyLDAvis.gensim\n",
        "import IPython\n",
        "from pprint import pprint\n",
        "import gensim.corpora as corpora\n",
        "from nltk.stem.snowball import SnowballStemmer"
      ],
      "execution_count": null,
      "outputs": [
        {
          "output_type": "stream",
          "text": [
            "[nltk_data] Downloading package stopwords to /root/nltk_data...\n",
            "[nltk_data]   Package stopwords is already up-to-date!\n"
          ],
          "name": "stdout"
        }
      ]
    },
    {
      "cell_type": "code",
      "metadata": {
        "id": "GZkdssE83XTK"
      },
      "source": [
        "# extend stopwords\n",
        "stop_words.extend(['get','got',\"i'd\",\"800\",\"i\", \"me\", \"my\", \"myself\", \"we\", \"our\", \"ours\", \n",
        "                   \"ourselves\", \"you\", \"your\", \"yours\", \"yourself\", \"yourselves\", \"he\", \"him\", \n",
        "                   \"his\", \"himself\", \"she\", \"her\", \"hers\", \"herself\", \"it\", \"its\", \"itself\", \"they\", \n",
        "                   \"them\", \"their\", \"theirs\", \"themselves\", \"what\", \"which\", \"who\", \"whom\", \"this\", \n",
        "                   \"that\", \"these\", \"those\", \"am\", \"is\", \"are\", \"was\", \"were\", \"be\", \"been\", \"being\", \n",
        "                   \"have\", \"has\", \"had\", \"having\", \"do\", \"does\", \"did\", \"doing\", \"a\", \"an\", \"the\", \n",
        "                   \"and\", \"but\", \"if\", \"or\", \"because\", \"as\", \"until\", \"while\", \"of\", \"at\", \"by\", \"for\", \n",
        "                   \"with\", \"about\", \"against\", \"between\", \"into\", \"through\", \"during\", \"before\", \"after\", \n",
        "                   \"above\", \"below\", \"to\", \"from\", \"up\", \"down\", \"in\", \"out\", \"on\", \"off\", \"over\", \"under\", \n",
        "                   \"again\", \"further\", \"then\", \"once\", \"here\", \"there\", \"when\", \"where\", \"why\", \"how\", \"all\", \n",
        "                   \"any\", \"both\", \"each\", \"few\", \"more\", \"most\", \"other\", \"some\", \"such\", \"no\", \"nor\", \"not\", \n",
        "                   \"only\", \"own\", \"same\", \"so\", \"than\", \"too\", \"very\", \"s\", \"t\", \"can\", \"will\", \"just\", \"don\",\n",
        "                   \"should\", \"now\", \"dont\",\"don't\",\"www\",\"https\",\"etc\",\"i’d\",\"id\",\"1st\",\"thats\",\"make\",\"makes\",\n",
        "                   \"making\",\"take\",\"taking\",\"772\"])"
      ],
      "execution_count": null,
      "outputs": []
    },
    {
      "cell_type": "markdown",
      "metadata": {
        "id": "twBaGAP0bOH8"
      },
      "source": [
        "### Part 1: Import data\n",
        "\n",
        "Load in data from scp file transfers in the form of pandas dataframes"
      ]
    },
    {
      "cell_type": "code",
      "metadata": {
        "colab": {
          "base_uri": "https://localhost:8080/",
          "height": 136
        },
        "id": "qnd4afL5KY4a",
        "outputId": "016c0d17-5177-4bb8-8a50-6df90aafd336"
      },
      "source": [
        "posts = pd.read_csv('posts.csv')\n",
        "posts.head(3)"
      ],
      "execution_count": null,
      "outputs": [
        {
          "output_type": "execute_result",
          "data": {
            "text/html": [
              "<div>\n",
              "<style scoped>\n",
              "    .dataframe tbody tr th:only-of-type {\n",
              "        vertical-align: middle;\n",
              "    }\n",
              "\n",
              "    .dataframe tbody tr th {\n",
              "        vertical-align: top;\n",
              "    }\n",
              "\n",
              "    .dataframe thead th {\n",
              "        text-align: right;\n",
              "    }\n",
              "</style>\n",
              "<table border=\"1\" class=\"dataframe\">\n",
              "  <thead>\n",
              "    <tr style=\"text-align: right;\">\n",
              "      <th></th>\n",
              "      <th>body</th>\n",
              "      <th>score</th>\n",
              "    </tr>\n",
              "  </thead>\n",
              "  <tbody>\n",
              "    <tr>\n",
              "      <th>0</th>\n",
              "      <td>Just wanted to update with my personal experie...</td>\n",
              "      <td>23</td>\n",
              "    </tr>\n",
              "    <tr>\n",
              "      <th>1</th>\n",
              "      <td>I’m currently on Emgality monthly, with topira...</td>\n",
              "      <td>24</td>\n",
              "    </tr>\n",
              "    <tr>\n",
              "      <th>2</th>\n",
              "      <td>Anyone have experience with a CGRP that was wo...</td>\n",
              "      <td>16</td>\n",
              "    </tr>\n",
              "  </tbody>\n",
              "</table>\n",
              "</div>"
            ],
            "text/plain": [
              "                                                body  score\n",
              "0  Just wanted to update with my personal experie...     23\n",
              "1  I’m currently on Emgality monthly, with topira...     24\n",
              "2  Anyone have experience with a CGRP that was wo...     16"
            ]
          },
          "metadata": {
            "tags": []
          },
          "execution_count": 99
        }
      ]
    },
    {
      "cell_type": "code",
      "metadata": {
        "colab": {
          "base_uri": "https://localhost:8080/",
          "height": 136
        },
        "id": "YriqZyIBLfh6",
        "outputId": "c46e04af-7f1e-4337-d241-258a6668b9f1"
      },
      "source": [
        "replies = pd.read_csv('replies.csv')\n",
        "replies.head(3)"
      ],
      "execution_count": null,
      "outputs": [
        {
          "output_type": "execute_result",
          "data": {
            "text/html": [
              "<div>\n",
              "<style scoped>\n",
              "    .dataframe tbody tr th:only-of-type {\n",
              "        vertical-align: middle;\n",
              "    }\n",
              "\n",
              "    .dataframe tbody tr th {\n",
              "        vertical-align: top;\n",
              "    }\n",
              "\n",
              "    .dataframe thead th {\n",
              "        text-align: right;\n",
              "    }\n",
              "</style>\n",
              "<table border=\"1\" class=\"dataframe\">\n",
              "  <thead>\n",
              "    <tr style=\"text-align: right;\">\n",
              "      <th></th>\n",
              "      <th>replies</th>\n",
              "      <th>score</th>\n",
              "    </tr>\n",
              "  </thead>\n",
              "  <tbody>\n",
              "    <tr>\n",
              "      <th>0</th>\n",
              "      <td>[{\"comment_1\":\"That’s great. I hope it continu...</td>\n",
              "      <td>23</td>\n",
              "    </tr>\n",
              "    <tr>\n",
              "      <th>1</th>\n",
              "      <td>[{\"comment_1\":\"As a nurse, Im sure this is inf...</td>\n",
              "      <td>24</td>\n",
              "    </tr>\n",
              "    <tr>\n",
              "      <th>2</th>\n",
              "      <td>[{\"comment_1\":\"Yes. This is what happened to m...</td>\n",
              "      <td>16</td>\n",
              "    </tr>\n",
              "  </tbody>\n",
              "</table>\n",
              "</div>"
            ],
            "text/plain": [
              "                                             replies  score\n",
              "0  [{\"comment_1\":\"That’s great. I hope it continu...     23\n",
              "1  [{\"comment_1\":\"As a nurse, Im sure this is inf...     24\n",
              "2  [{\"comment_1\":\"Yes. This is what happened to m...     16"
            ]
          },
          "metadata": {
            "tags": []
          },
          "execution_count": 100
        }
      ]
    },
    {
      "cell_type": "markdown",
      "metadata": {
        "id": "qOQod_mUbi1a"
      },
      "source": [
        "### Part 2: Cleanse data\n",
        "Convert 'replies' dataframe into a more useable format. Cleanse both datasets of special characters, whitespaces, and convert to lowercase."
      ]
    },
    {
      "cell_type": "code",
      "metadata": {
        "id": "uZpG_hL8Kxry"
      },
      "source": [
        "# function to cleanse data\n",
        "def cleanse_text(df,col):\n",
        "  \"\"\"\n",
        "  Remove stopwords\n",
        "  Remove special characters\n",
        "  \"\"\"\n",
        "  spec_chars = [\"!\",'\"',\"#\",\"%\",\"&\",\"'\",\"(\",\")\",\n",
        "              \"*\",\"+\",\",\",\"-\",\".\",\"/\",\":\",\";\",\"<\",\n",
        "              \"=\",\">\",\"?\",\"@\",\"[\",\"\\\\\",\"]\",\"^\",\"_\",\n",
        "              \"`\",\"{\",\"|\",\"}\",\"~\",\"–\",\"\\xa0\",\"\\xa0å\",\"”\",\"“\",\"’\"]\n",
        "\n",
        "  for char in spec_chars:\n",
        "      df[col] = df[col].str.replace(char, ' ').str.replace('  ',' ').str.lower().str.strip()\n",
        "\n",
        "  doc = []\n",
        "\n",
        "  for sentence in df[col]:\n",
        "    sentence = sentence.split(\" \")\n",
        "    for word in sentence:\n",
        "      if word not in stop_words and len(word) >= 3:\n",
        "        doc.append(word.strip())\n",
        "\n",
        "  return doc"
      ],
      "execution_count": null,
      "outputs": []
    },
    {
      "cell_type": "code",
      "metadata": {
        "colab": {
          "base_uri": "https://localhost:8080/",
          "height": 136
        },
        "id": "KiT0Nf3tL98Q",
        "outputId": "66463d88-b7ce-4a65-d33a-a7425605573f"
      },
      "source": [
        "replies_cleansed = pd.DataFrame(columns=['Comments'])\n",
        "\n",
        "comment_list = []\n",
        "for reply in replies.replies:\n",
        "  comments = json.loads(reply)\n",
        "  for comment in comments:\n",
        "    comment_list.append(\" \".join(list(comment.values())))\n",
        "\n",
        "replies_cleansed['Comments'] = comment_list\n",
        "replies_cleansed.head(3)"
      ],
      "execution_count": null,
      "outputs": [
        {
          "output_type": "execute_result",
          "data": {
            "text/html": [
              "<div>\n",
              "<style scoped>\n",
              "    .dataframe tbody tr th:only-of-type {\n",
              "        vertical-align: middle;\n",
              "    }\n",
              "\n",
              "    .dataframe tbody tr th {\n",
              "        vertical-align: top;\n",
              "    }\n",
              "\n",
              "    .dataframe thead th {\n",
              "        text-align: right;\n",
              "    }\n",
              "</style>\n",
              "<table border=\"1\" class=\"dataframe\">\n",
              "  <thead>\n",
              "    <tr style=\"text-align: right;\">\n",
              "      <th></th>\n",
              "      <th>Comments</th>\n",
              "    </tr>\n",
              "  </thead>\n",
              "  <tbody>\n",
              "    <tr>\n",
              "      <th>0</th>\n",
              "      <td>That’s great. I hope it continues to work so w...</td>\n",
              "    </tr>\n",
              "    <tr>\n",
              "      <th>1</th>\n",
              "      <td>As a nurse, Im sure this is info youre well aw...</td>\n",
              "    </tr>\n",
              "    <tr>\n",
              "      <th>2</th>\n",
              "      <td>Yes. This is what happened to me. Each of the ...</td>\n",
              "    </tr>\n",
              "  </tbody>\n",
              "</table>\n",
              "</div>"
            ],
            "text/plain": [
              "                                            Comments\n",
              "0  That’s great. I hope it continues to work so w...\n",
              "1  As a nurse, Im sure this is info youre well aw...\n",
              "2  Yes. This is what happened to me. Each of the ..."
            ]
          },
          "metadata": {
            "tags": []
          },
          "execution_count": 159
        }
      ]
    },
    {
      "cell_type": "markdown",
      "metadata": {
        "id": "WooBC-DIdyGW"
      },
      "source": [
        "### Part 3: Perform NLTK on Unigrams\n",
        "This will be used to analyze and visualize most frequent words from 1000 cgrpMigraine subreddit posts and comments."
      ]
    },
    {
      "cell_type": "code",
      "metadata": {
        "id": "tq3k4L8aUKgd"
      },
      "source": [
        "# feed dataframes through text cleansing functions\n",
        "post_doc = cleanse_text(posts,'body')\n",
        "replies_doc = cleanse_text(replies_cleansed,'Comments')\n",
        "\n",
        "# convert in dictionary form\n",
        "docs = [post_doc,replies_doc]\n",
        "dictionary = gensim.corpora.Dictionary(docs)\n",
        "corpus = [dictionary.doc2bow(doc) for doc in docs]\n",
        "\n",
        "# compute frequencies\n",
        "tfidf = gensim.models.TfidfModel(corpus)\n",
        "post_bow = pd.Series({dictionary[id]:np.around(freq, decimals=2) for id, freq in tfidf[corpus[0]]}).to_frame()\n",
        "replies_bow = pd.Series({dictionary[id]:np.around(freq, decimals=2) for id, freq in tfidf[corpus[1]]}).to_frame()\n",
        "\n",
        "post_bow.columns = ['Frequency']\n",
        "replies_bow.columns = ['Frequency']"
      ],
      "execution_count": null,
      "outputs": []
    },
    {
      "cell_type": "code",
      "metadata": {
        "colab": {
          "base_uri": "https://localhost:8080/",
          "height": 136
        },
        "id": "X43ixeKviRbF",
        "outputId": "d44ec984-7ca5-466e-c246-d5a80783b2b5"
      },
      "source": [
        "# store top 50 most frequent words from comments\n",
        "post_top_50 = post_bow.sort_values(by='Frequency',ascending=False).iloc[0:51,:]\n",
        "post_top_50.head(3)"
      ],
      "execution_count": null,
      "outputs": [
        {
          "output_type": "execute_result",
          "data": {
            "text/html": [
              "<div>\n",
              "<style scoped>\n",
              "    .dataframe tbody tr th:only-of-type {\n",
              "        vertical-align: middle;\n",
              "    }\n",
              "\n",
              "    .dataframe tbody tr th {\n",
              "        vertical-align: top;\n",
              "    }\n",
              "\n",
              "    .dataframe thead th {\n",
              "        text-align: right;\n",
              "    }\n",
              "</style>\n",
              "<table border=\"1\" class=\"dataframe\">\n",
              "  <thead>\n",
              "    <tr style=\"text-align: right;\">\n",
              "      <th></th>\n",
              "      <th>Frequency</th>\n",
              "    </tr>\n",
              "  </thead>\n",
              "  <tbody>\n",
              "    <tr>\n",
              "      <th>lupus</th>\n",
              "      <td>0.24</td>\n",
              "    </tr>\n",
              "    <tr>\n",
              "      <th>induced</th>\n",
              "      <td>0.17</td>\n",
              "    </tr>\n",
              "    <tr>\n",
              "      <th>topiramate</th>\n",
              "      <td>0.17</td>\n",
              "    </tr>\n",
              "  </tbody>\n",
              "</table>\n",
              "</div>"
            ],
            "text/plain": [
              "            Frequency\n",
              "lupus            0.24\n",
              "induced          0.17\n",
              "topiramate       0.17"
            ]
          },
          "metadata": {
            "tags": []
          },
          "execution_count": 161
        }
      ]
    },
    {
      "cell_type": "code",
      "metadata": {
        "colab": {
          "base_uri": "https://localhost:8080/",
          "height": 136
        },
        "id": "2ahh7PiDMHoS",
        "outputId": "31d2ed47-515a-4150-baab-1e55494b547c"
      },
      "source": [
        "# store top 50 most frequent words from replies\n",
        "replies_top_50 = replies_bow.sort_values(by='Frequency',ascending=False).iloc[0:51,:]\n",
        "replies_top_50.head(3)"
      ],
      "execution_count": null,
      "outputs": [
        {
          "output_type": "execute_result",
          "data": {
            "text/html": [
              "<div>\n",
              "<style scoped>\n",
              "    .dataframe tbody tr th:only-of-type {\n",
              "        vertical-align: middle;\n",
              "    }\n",
              "\n",
              "    .dataframe tbody tr th {\n",
              "        vertical-align: top;\n",
              "    }\n",
              "\n",
              "    .dataframe thead th {\n",
              "        text-align: right;\n",
              "    }\n",
              "</style>\n",
              "<table border=\"1\" class=\"dataframe\">\n",
              "  <thead>\n",
              "    <tr style=\"text-align: right;\">\n",
              "      <th></th>\n",
              "      <th>Frequency</th>\n",
              "    </tr>\n",
              "  </thead>\n",
              "  <tbody>\n",
              "    <tr>\n",
              "      <th>belly</th>\n",
              "      <td>0.27</td>\n",
              "    </tr>\n",
              "    <tr>\n",
              "      <th>thigh</th>\n",
              "      <td>0.23</td>\n",
              "    </tr>\n",
              "    <tr>\n",
              "      <th>thank</th>\n",
              "      <td>0.23</td>\n",
              "    </tr>\n",
              "  </tbody>\n",
              "</table>\n",
              "</div>"
            ],
            "text/plain": [
              "       Frequency\n",
              "belly       0.27\n",
              "thigh       0.23\n",
              "thank       0.23"
            ]
          },
          "metadata": {
            "tags": []
          },
          "execution_count": 162
        }
      ]
    },
    {
      "cell_type": "markdown",
      "metadata": {
        "id": "oIGZFBxSoMek"
      },
      "source": [
        "### Part 4: Perform NLTK functions on bigrams\n",
        "This will be used to analyze and visualize bigrams (pair of two words) from 1000 cgrpMigraine subreddit posts and comments."
      ]
    },
    {
      "cell_type": "code",
      "metadata": {
        "id": "lxBTR_uzlBlB"
      },
      "source": [
        "# compute bigrams on tokens\n",
        "post_bigrams = list(nltk.bigrams(cleanse_text(posts,'body')))\n",
        "replies_bigrams = list(nltk.bigrams(cleanse_text(replies_cleansed,'Comments')))"
      ],
      "execution_count": null,
      "outputs": []
    },
    {
      "cell_type": "code",
      "metadata": {
        "colab": {
          "base_uri": "https://localhost:8080/"
        },
        "id": "TJcqqB_9ln7D",
        "outputId": "9c21b507-5ace-4968-a47c-585cb714f6df"
      },
      "source": [
        "list(post_bigrams)[0:5]"
      ],
      "execution_count": null,
      "outputs": [
        {
          "output_type": "execute_result",
          "data": {
            "text/plain": [
              "[('wanted', 'update'),\n",
              " ('update', 'personal'),\n",
              " ('personal', 'experience'),\n",
              " ('experience', 'far'),\n",
              " ('far', 'posted')]"
            ]
          },
          "metadata": {
            "tags": []
          },
          "execution_count": 151
        }
      ]
    },
    {
      "cell_type": "code",
      "metadata": {
        "colab": {
          "base_uri": "https://localhost:8080/"
        },
        "id": "ROfeYHvHmFkW",
        "outputId": "77e19c8e-0fec-46d1-bcea-d347ac5a8b61"
      },
      "source": [
        "list(replies_bigrams)[0:5]"
      ],
      "execution_count": null,
      "outputs": [
        {
          "output_type": "execute_result",
          "data": {
            "text/plain": [
              "[('great', 'hope'),\n",
              " ('hope', 'continues'),\n",
              " ('continues', 'work'),\n",
              " ('work', 'well'),\n",
              " ('well', 'took')]"
            ]
          },
          "metadata": {
            "tags": []
          },
          "execution_count": 152
        }
      ]
    },
    {
      "cell_type": "code",
      "metadata": {
        "id": "WyMrKH2DmLs_"
      },
      "source": [
        "# for every word, compute frequency distribution of bigrams\n",
        "post_freq_dist = nltk.ConditionalFreqDist(post_bigrams)\n",
        "replies_freq_dist = nltk.ConditionalFreqDist(replies_bigrams)"
      ],
      "execution_count": null,
      "outputs": []
    },
    {
      "cell_type": "markdown",
      "metadata": {
        "id": "B_6nsCfxpPy3"
      },
      "source": [
        "# Part 5: Visualize Most Frequent Unigrams\n",
        "Visualize unigram word frequencies from posts and replies using plotly library."
      ]
    },
    {
      "cell_type": "code",
      "metadata": {
        "colab": {
          "base_uri": "https://localhost:8080/",
          "height": 542
        },
        "id": "Xy7gdLyap6J9",
        "outputId": "00024f57-e602-4e43-cdcc-83d5aa993f17"
      },
      "source": [
        "px.bar(post_top_50, x=post_top_50.index, y=\"Frequency\",color=\"Frequency\",title=\"Unigram Word Frequencies- Posts\")"
      ],
      "execution_count": 186,
      "outputs": [
        {
          "output_type": "display_data",
          "data": {
            "text/html": [
              "<html>\n",
              "<head><meta charset=\"utf-8\" /></head>\n",
              "<body>\n",
              "    <div>\n",
              "            <script src=\"https://cdnjs.cloudflare.com/ajax/libs/mathjax/2.7.5/MathJax.js?config=TeX-AMS-MML_SVG\"></script><script type=\"text/javascript\">if (window.MathJax) {MathJax.Hub.Config({SVG: {font: \"STIX-Web\"}});}</script>\n",
              "                <script type=\"text/javascript\">window.PlotlyConfig = {MathJaxConfig: 'local'};</script>\n",
              "        <script src=\"https://cdn.plot.ly/plotly-latest.min.js\"></script>    \n",
              "            <div id=\"4f2094c2-34fe-438d-9b0f-74ae4c166585\" class=\"plotly-graph-div\" style=\"height:525px; width:100%;\"></div>\n",
              "            <script type=\"text/javascript\">\n",
              "                \n",
              "                    window.PLOTLYENV=window.PLOTLYENV || {};\n",
              "                    \n",
              "                if (document.getElementById(\"4f2094c2-34fe-438d-9b0f-74ae4c166585\")) {\n",
              "                    Plotly.newPlot(\n",
              "                        '4f2094c2-34fe-438d-9b0f-74ae4c166585',\n",
              "                        [{\"alignmentgroup\": \"True\", \"hoverlabel\": {\"namelength\": 0}, \"hovertemplate\": \"x=%{x}<br>Frequency=%{marker.color}\", \"legendgroup\": \"\", \"marker\": {\"color\": [0.24, 0.17, 0.17, 0.17, 0.14, 0.14, 0.14, 0.1, 0.1, 0.1, 0.1, 0.1, 0.1, 0.1, 0.1, 0.1, 0.1, 0.1, 0.1, 0.07, 0.07, 0.07, 0.07, 0.07, 0.07, 0.07, 0.07, 0.07, 0.07, 0.07, 0.07, 0.07, 0.07, 0.07, 0.07, 0.07, 0.07, 0.07, 0.07, 0.07, 0.07, 0.07, 0.07, 0.07, 0.07, 0.07, 0.07, 0.07, 0.07, 0.07, 0.07], \"coloraxis\": \"coloraxis\"}, \"name\": \"\", \"offsetgroup\": \"\", \"orientation\": \"v\", \"showlegend\": false, \"textposition\": \"auto\", \"type\": \"bar\", \"x\": [\"lupus\", \"induced\", \"topiramate\", \"miss\", \"basically\", \"share\", \"reports\", \"gave\", \"aches\", \"alone\", \"set\", \"fine\", \"believe\", \"test\", \"rxlist\", \"rescue\", \"triggers\", \"reported\", \"center\", \"taken\", \"playing\", \"pick\", \"strain\", \"special\", \"ask\", \"pharmacist\", \"non\", \"potential\", \"case\", \"beers\", \"htm\", \"containers\", \"figured\", \"personal\", \"comaimovig\", \"slightly\", \"histone\", \"fit\", \"skin\", \"honestly\", \"concerned\", \"saying\", \"eye\", \"usual\", \"enjoyed\", \"late\", \"dizziness\", \"lists\", \"respite\", \"middle\", \"responders\"], \"xaxis\": \"x\", \"y\": [0.24, 0.17, 0.17, 0.17, 0.14, 0.14, 0.14, 0.1, 0.1, 0.1, 0.1, 0.1, 0.1, 0.1, 0.1, 0.1, 0.1, 0.1, 0.1, 0.07, 0.07, 0.07, 0.07, 0.07, 0.07, 0.07, 0.07, 0.07, 0.07, 0.07, 0.07, 0.07, 0.07, 0.07, 0.07, 0.07, 0.07, 0.07, 0.07, 0.07, 0.07, 0.07, 0.07, 0.07, 0.07, 0.07, 0.07, 0.07, 0.07, 0.07, 0.07], \"yaxis\": \"y\"}],\n",
              "                        {\"barmode\": \"relative\", \"coloraxis\": {\"colorbar\": {\"title\": {\"text\": \"Frequency\"}}, \"colorscale\": [[0.0, \"#0d0887\"], [0.1111111111111111, \"#46039f\"], [0.2222222222222222, \"#7201a8\"], [0.3333333333333333, \"#9c179e\"], [0.4444444444444444, \"#bd3786\"], [0.5555555555555556, \"#d8576b\"], [0.6666666666666666, \"#ed7953\"], [0.7777777777777778, \"#fb9f3a\"], [0.8888888888888888, \"#fdca26\"], [1.0, \"#f0f921\"]]}, \"legend\": {\"tracegroupgap\": 0}, \"template\": {\"data\": {\"bar\": [{\"error_x\": {\"color\": \"#2a3f5f\"}, \"error_y\": {\"color\": \"#2a3f5f\"}, \"marker\": {\"line\": {\"color\": \"#E5ECF6\", \"width\": 0.5}}, \"type\": \"bar\"}], \"barpolar\": [{\"marker\": {\"line\": {\"color\": \"#E5ECF6\", \"width\": 0.5}}, \"type\": \"barpolar\"}], \"carpet\": [{\"aaxis\": {\"endlinecolor\": \"#2a3f5f\", \"gridcolor\": \"white\", \"linecolor\": \"white\", \"minorgridcolor\": \"white\", \"startlinecolor\": \"#2a3f5f\"}, \"baxis\": {\"endlinecolor\": \"#2a3f5f\", \"gridcolor\": \"white\", \"linecolor\": \"white\", \"minorgridcolor\": \"white\", \"startlinecolor\": \"#2a3f5f\"}, \"type\": \"carpet\"}], \"choropleth\": [{\"colorbar\": {\"outlinewidth\": 0, \"ticks\": \"\"}, \"type\": \"choropleth\"}], \"contour\": [{\"colorbar\": {\"outlinewidth\": 0, \"ticks\": \"\"}, \"colorscale\": [[0.0, \"#0d0887\"], [0.1111111111111111, \"#46039f\"], [0.2222222222222222, \"#7201a8\"], [0.3333333333333333, \"#9c179e\"], [0.4444444444444444, \"#bd3786\"], [0.5555555555555556, \"#d8576b\"], [0.6666666666666666, \"#ed7953\"], [0.7777777777777778, \"#fb9f3a\"], [0.8888888888888888, \"#fdca26\"], [1.0, \"#f0f921\"]], \"type\": \"contour\"}], \"contourcarpet\": [{\"colorbar\": {\"outlinewidth\": 0, \"ticks\": \"\"}, \"type\": \"contourcarpet\"}], \"heatmap\": [{\"colorbar\": {\"outlinewidth\": 0, \"ticks\": \"\"}, \"colorscale\": [[0.0, \"#0d0887\"], [0.1111111111111111, \"#46039f\"], [0.2222222222222222, \"#7201a8\"], [0.3333333333333333, \"#9c179e\"], [0.4444444444444444, \"#bd3786\"], [0.5555555555555556, \"#d8576b\"], [0.6666666666666666, \"#ed7953\"], [0.7777777777777778, \"#fb9f3a\"], [0.8888888888888888, \"#fdca26\"], [1.0, \"#f0f921\"]], \"type\": \"heatmap\"}], \"heatmapgl\": [{\"colorbar\": {\"outlinewidth\": 0, \"ticks\": \"\"}, \"colorscale\": [[0.0, \"#0d0887\"], [0.1111111111111111, \"#46039f\"], [0.2222222222222222, \"#7201a8\"], [0.3333333333333333, \"#9c179e\"], [0.4444444444444444, \"#bd3786\"], [0.5555555555555556, \"#d8576b\"], [0.6666666666666666, \"#ed7953\"], [0.7777777777777778, \"#fb9f3a\"], [0.8888888888888888, \"#fdca26\"], [1.0, \"#f0f921\"]], \"type\": \"heatmapgl\"}], \"histogram\": [{\"marker\": {\"colorbar\": {\"outlinewidth\": 0, \"ticks\": \"\"}}, \"type\": \"histogram\"}], \"histogram2d\": [{\"colorbar\": {\"outlinewidth\": 0, \"ticks\": \"\"}, \"colorscale\": [[0.0, \"#0d0887\"], [0.1111111111111111, \"#46039f\"], [0.2222222222222222, \"#7201a8\"], [0.3333333333333333, \"#9c179e\"], [0.4444444444444444, \"#bd3786\"], [0.5555555555555556, \"#d8576b\"], [0.6666666666666666, \"#ed7953\"], [0.7777777777777778, \"#fb9f3a\"], [0.8888888888888888, \"#fdca26\"], [1.0, \"#f0f921\"]], \"type\": \"histogram2d\"}], \"histogram2dcontour\": [{\"colorbar\": {\"outlinewidth\": 0, \"ticks\": \"\"}, \"colorscale\": [[0.0, \"#0d0887\"], [0.1111111111111111, \"#46039f\"], [0.2222222222222222, \"#7201a8\"], [0.3333333333333333, \"#9c179e\"], [0.4444444444444444, \"#bd3786\"], [0.5555555555555556, \"#d8576b\"], [0.6666666666666666, \"#ed7953\"], [0.7777777777777778, \"#fb9f3a\"], [0.8888888888888888, \"#fdca26\"], [1.0, \"#f0f921\"]], \"type\": \"histogram2dcontour\"}], \"mesh3d\": [{\"colorbar\": {\"outlinewidth\": 0, \"ticks\": \"\"}, \"type\": \"mesh3d\"}], \"parcoords\": [{\"line\": {\"colorbar\": {\"outlinewidth\": 0, \"ticks\": \"\"}}, \"type\": \"parcoords\"}], \"pie\": [{\"automargin\": true, \"type\": \"pie\"}], \"scatter\": [{\"marker\": {\"colorbar\": {\"outlinewidth\": 0, \"ticks\": \"\"}}, \"type\": \"scatter\"}], \"scatter3d\": [{\"line\": {\"colorbar\": {\"outlinewidth\": 0, \"ticks\": \"\"}}, \"marker\": {\"colorbar\": {\"outlinewidth\": 0, \"ticks\": \"\"}}, \"type\": \"scatter3d\"}], \"scattercarpet\": [{\"marker\": {\"colorbar\": {\"outlinewidth\": 0, \"ticks\": \"\"}}, \"type\": \"scattercarpet\"}], \"scattergeo\": [{\"marker\": {\"colorbar\": {\"outlinewidth\": 0, \"ticks\": \"\"}}, \"type\": \"scattergeo\"}], \"scattergl\": [{\"marker\": {\"colorbar\": {\"outlinewidth\": 0, \"ticks\": \"\"}}, \"type\": \"scattergl\"}], \"scattermapbox\": [{\"marker\": {\"colorbar\": {\"outlinewidth\": 0, \"ticks\": \"\"}}, \"type\": \"scattermapbox\"}], \"scatterpolar\": [{\"marker\": {\"colorbar\": {\"outlinewidth\": 0, \"ticks\": \"\"}}, \"type\": \"scatterpolar\"}], \"scatterpolargl\": [{\"marker\": {\"colorbar\": {\"outlinewidth\": 0, \"ticks\": \"\"}}, \"type\": \"scatterpolargl\"}], \"scatterternary\": [{\"marker\": {\"colorbar\": {\"outlinewidth\": 0, \"ticks\": \"\"}}, \"type\": \"scatterternary\"}], \"surface\": [{\"colorbar\": {\"outlinewidth\": 0, \"ticks\": \"\"}, \"colorscale\": [[0.0, \"#0d0887\"], [0.1111111111111111, \"#46039f\"], [0.2222222222222222, \"#7201a8\"], [0.3333333333333333, \"#9c179e\"], [0.4444444444444444, \"#bd3786\"], [0.5555555555555556, \"#d8576b\"], [0.6666666666666666, \"#ed7953\"], [0.7777777777777778, \"#fb9f3a\"], [0.8888888888888888, \"#fdca26\"], [1.0, \"#f0f921\"]], \"type\": \"surface\"}], \"table\": [{\"cells\": {\"fill\": {\"color\": \"#EBF0F8\"}, \"line\": {\"color\": \"white\"}}, \"header\": {\"fill\": {\"color\": \"#C8D4E3\"}, \"line\": {\"color\": \"white\"}}, \"type\": \"table\"}]}, \"layout\": {\"annotationdefaults\": {\"arrowcolor\": \"#2a3f5f\", \"arrowhead\": 0, \"arrowwidth\": 1}, \"coloraxis\": {\"colorbar\": {\"outlinewidth\": 0, \"ticks\": \"\"}}, \"colorscale\": {\"diverging\": [[0, \"#8e0152\"], [0.1, \"#c51b7d\"], [0.2, \"#de77ae\"], [0.3, \"#f1b6da\"], [0.4, \"#fde0ef\"], [0.5, \"#f7f7f7\"], [0.6, \"#e6f5d0\"], [0.7, \"#b8e186\"], [0.8, \"#7fbc41\"], [0.9, \"#4d9221\"], [1, \"#276419\"]], \"sequential\": [[0.0, \"#0d0887\"], [0.1111111111111111, \"#46039f\"], [0.2222222222222222, \"#7201a8\"], [0.3333333333333333, \"#9c179e\"], [0.4444444444444444, \"#bd3786\"], [0.5555555555555556, \"#d8576b\"], [0.6666666666666666, \"#ed7953\"], [0.7777777777777778, \"#fb9f3a\"], [0.8888888888888888, \"#fdca26\"], [1.0, \"#f0f921\"]], \"sequentialminus\": [[0.0, \"#0d0887\"], [0.1111111111111111, \"#46039f\"], [0.2222222222222222, \"#7201a8\"], [0.3333333333333333, \"#9c179e\"], [0.4444444444444444, \"#bd3786\"], [0.5555555555555556, \"#d8576b\"], [0.6666666666666666, \"#ed7953\"], [0.7777777777777778, \"#fb9f3a\"], [0.8888888888888888, \"#fdca26\"], [1.0, \"#f0f921\"]]}, \"colorway\": [\"#636efa\", \"#EF553B\", \"#00cc96\", \"#ab63fa\", \"#FFA15A\", \"#19d3f3\", \"#FF6692\", \"#B6E880\", \"#FF97FF\", \"#FECB52\"], \"font\": {\"color\": \"#2a3f5f\"}, \"geo\": {\"bgcolor\": \"white\", \"lakecolor\": \"white\", \"landcolor\": \"#E5ECF6\", \"showlakes\": true, \"showland\": true, \"subunitcolor\": \"white\"}, \"hoverlabel\": {\"align\": \"left\"}, \"hovermode\": \"closest\", \"mapbox\": {\"style\": \"light\"}, \"paper_bgcolor\": \"white\", \"plot_bgcolor\": \"#E5ECF6\", \"polar\": {\"angularaxis\": {\"gridcolor\": \"white\", \"linecolor\": \"white\", \"ticks\": \"\"}, \"bgcolor\": \"#E5ECF6\", \"radialaxis\": {\"gridcolor\": \"white\", \"linecolor\": \"white\", \"ticks\": \"\"}}, \"scene\": {\"xaxis\": {\"backgroundcolor\": \"#E5ECF6\", \"gridcolor\": \"white\", \"gridwidth\": 2, \"linecolor\": \"white\", \"showbackground\": true, \"ticks\": \"\", \"zerolinecolor\": \"white\"}, \"yaxis\": {\"backgroundcolor\": \"#E5ECF6\", \"gridcolor\": \"white\", \"gridwidth\": 2, \"linecolor\": \"white\", \"showbackground\": true, \"ticks\": \"\", \"zerolinecolor\": \"white\"}, \"zaxis\": {\"backgroundcolor\": \"#E5ECF6\", \"gridcolor\": \"white\", \"gridwidth\": 2, \"linecolor\": \"white\", \"showbackground\": true, \"ticks\": \"\", \"zerolinecolor\": \"white\"}}, \"shapedefaults\": {\"line\": {\"color\": \"#2a3f5f\"}}, \"ternary\": {\"aaxis\": {\"gridcolor\": \"white\", \"linecolor\": \"white\", \"ticks\": \"\"}, \"baxis\": {\"gridcolor\": \"white\", \"linecolor\": \"white\", \"ticks\": \"\"}, \"bgcolor\": \"#E5ECF6\", \"caxis\": {\"gridcolor\": \"white\", \"linecolor\": \"white\", \"ticks\": \"\"}}, \"title\": {\"x\": 0.05}, \"xaxis\": {\"automargin\": true, \"gridcolor\": \"white\", \"linecolor\": \"white\", \"ticks\": \"\", \"title\": {\"standoff\": 15}, \"zerolinecolor\": \"white\", \"zerolinewidth\": 2}, \"yaxis\": {\"automargin\": true, \"gridcolor\": \"white\", \"linecolor\": \"white\", \"ticks\": \"\", \"title\": {\"standoff\": 15}, \"zerolinecolor\": \"white\", \"zerolinewidth\": 2}}}, \"title\": {\"text\": \"Unigram Word Frequencies- Posts\"}, \"xaxis\": {\"anchor\": \"y\", \"domain\": [0.0, 1.0], \"title\": {\"text\": \"x\"}}, \"yaxis\": {\"anchor\": \"x\", \"domain\": [0.0, 1.0], \"title\": {\"text\": \"Frequency\"}}},\n",
              "                        {\"responsive\": true}\n",
              "                    ).then(function(){\n",
              "                            \n",
              "var gd = document.getElementById('4f2094c2-34fe-438d-9b0f-74ae4c166585');\n",
              "var x = new MutationObserver(function (mutations, observer) {{\n",
              "        var display = window.getComputedStyle(gd).display;\n",
              "        if (!display || display === 'none') {{\n",
              "            console.log([gd, 'removed!']);\n",
              "            Plotly.purge(gd);\n",
              "            observer.disconnect();\n",
              "        }}\n",
              "}});\n",
              "\n",
              "// Listen for the removal of the full notebook cells\n",
              "var notebookContainer = gd.closest('#notebook-container');\n",
              "if (notebookContainer) {{\n",
              "    x.observe(notebookContainer, {childList: true});\n",
              "}}\n",
              "\n",
              "// Listen for the clearing of the current output cell\n",
              "var outputEl = gd.closest('.output');\n",
              "if (outputEl) {{\n",
              "    x.observe(outputEl, {childList: true});\n",
              "}}\n",
              "\n",
              "                        })\n",
              "                };\n",
              "                \n",
              "            </script>\n",
              "        </div>\n",
              "</body>\n",
              "</html>"
            ]
          },
          "metadata": {
            "tags": []
          }
        }
      ]
    },
    {
      "cell_type": "code",
      "metadata": {
        "colab": {
          "base_uri": "https://localhost:8080/",
          "height": 542
        },
        "id": "6P5PwyXQp9RF",
        "outputId": "89c78095-8f02-448a-d371-9b4a1b57a9fe"
      },
      "source": [
        "px.bar(replies_top_50, x=replies_top_50.index, y=\"Frequency\",color=\"Frequency\",title=\"Unigram Word Frequencies- Replies\").show()"
      ],
      "execution_count": null,
      "outputs": [
        {
          "output_type": "display_data",
          "data": {
            "text/html": [
              "<html>\n",
              "<head><meta charset=\"utf-8\" /></head>\n",
              "<body>\n",
              "    <div>\n",
              "            <script src=\"https://cdnjs.cloudflare.com/ajax/libs/mathjax/2.7.5/MathJax.js?config=TeX-AMS-MML_SVG\"></script><script type=\"text/javascript\">if (window.MathJax) {MathJax.Hub.Config({SVG: {font: \"STIX-Web\"}});}</script>\n",
              "                <script type=\"text/javascript\">window.PlotlyConfig = {MathJaxConfig: 'local'};</script>\n",
              "        <script src=\"https://cdn.plot.ly/plotly-latest.min.js\"></script>    \n",
              "            <div id=\"4c0dce32-736e-4be6-ac45-2fba564a8c16\" class=\"plotly-graph-div\" style=\"height:525px; width:100%;\"></div>\n",
              "            <script type=\"text/javascript\">\n",
              "                \n",
              "                    window.PLOTLYENV=window.PLOTLYENV || {};\n",
              "                    \n",
              "                if (document.getElementById(\"4c0dce32-736e-4be6-ac45-2fba564a8c16\")) {\n",
              "                    Plotly.newPlot(\n",
              "                        '4c0dce32-736e-4be6-ac45-2fba564a8c16',\n",
              "                        [{\"alignmentgroup\": \"True\", \"hoverlabel\": {\"namelength\": 0}, \"hovertemplate\": \"x=%{x}<br>Frequency=%{marker.color}\", \"legendgroup\": \"\", \"marker\": {\"color\": [0.27, 0.23, 0.23, 0.21, 0.17, 0.15, 0.13, 0.13, 0.13, 0.12, 0.12, 0.12, 0.12, 0.1, 0.1, 0.1, 0.1, 0.1, 0.1, 0.08, 0.08, 0.08, 0.08, 0.08, 0.08, 0.08, 0.08, 0.08, 0.08, 0.08, 0.08, 0.06, 0.06, 0.06, 0.06, 0.06, 0.06, 0.06, 0.06, 0.06, 0.06, 0.06, 0.06, 0.06, 0.06, 0.06, 0.06, 0.06, 0.06, 0.06, 0.06], \"coloraxis\": \"coloraxis\"}, \"name\": \"\", \"offsetgroup\": \"\", \"orientation\": \"v\", \"showlegend\": false, \"textposition\": \"auto\", \"type\": \"bar\", \"x\": [\"belly\", \"thigh\", \"thank\", \"bad\", \"medications\", \"found\", \"done\", \"maybe\", \"loading\", \"many\", \"actually\", \"severe\", \"inject\", \"anything\", \"hear\", \"nearly\", \"serious\", \"early\", \"husband\", \"february\", \"call\", \"helped\", \"wait\", \"point\", \"ice\", \"muscle\", \"using\", \"horrible\", \"eat\", \"takes\", \"food\", \"usually\", \"notice\", \"continues\", \"havent\", \"nerve\", \"november\", \"soon\", \"autoinjector\", \"high\", \"compared\", \"throat\", \"poisoning\", \"plan\", \"lots\", \"lost\", \"monday\", \"half\", \"gone\", \"team\", \"rounds\"], \"xaxis\": \"x\", \"y\": [0.27, 0.23, 0.23, 0.21, 0.17, 0.15, 0.13, 0.13, 0.13, 0.12, 0.12, 0.12, 0.12, 0.1, 0.1, 0.1, 0.1, 0.1, 0.1, 0.08, 0.08, 0.08, 0.08, 0.08, 0.08, 0.08, 0.08, 0.08, 0.08, 0.08, 0.08, 0.06, 0.06, 0.06, 0.06, 0.06, 0.06, 0.06, 0.06, 0.06, 0.06, 0.06, 0.06, 0.06, 0.06, 0.06, 0.06, 0.06, 0.06, 0.06, 0.06], \"yaxis\": \"y\"}],\n",
              "                        {\"barmode\": \"relative\", \"coloraxis\": {\"colorbar\": {\"title\": {\"text\": \"Frequency\"}}, \"colorscale\": [[0.0, \"#0d0887\"], [0.1111111111111111, \"#46039f\"], [0.2222222222222222, \"#7201a8\"], [0.3333333333333333, \"#9c179e\"], [0.4444444444444444, \"#bd3786\"], [0.5555555555555556, \"#d8576b\"], [0.6666666666666666, \"#ed7953\"], [0.7777777777777778, \"#fb9f3a\"], [0.8888888888888888, \"#fdca26\"], [1.0, \"#f0f921\"]]}, \"legend\": {\"tracegroupgap\": 0}, \"template\": {\"data\": {\"bar\": [{\"error_x\": {\"color\": \"#2a3f5f\"}, \"error_y\": {\"color\": \"#2a3f5f\"}, \"marker\": {\"line\": {\"color\": \"#E5ECF6\", \"width\": 0.5}}, \"type\": \"bar\"}], \"barpolar\": [{\"marker\": {\"line\": {\"color\": \"#E5ECF6\", \"width\": 0.5}}, \"type\": \"barpolar\"}], \"carpet\": [{\"aaxis\": {\"endlinecolor\": \"#2a3f5f\", \"gridcolor\": \"white\", \"linecolor\": \"white\", \"minorgridcolor\": \"white\", \"startlinecolor\": \"#2a3f5f\"}, \"baxis\": {\"endlinecolor\": \"#2a3f5f\", \"gridcolor\": \"white\", \"linecolor\": \"white\", \"minorgridcolor\": \"white\", \"startlinecolor\": \"#2a3f5f\"}, \"type\": \"carpet\"}], \"choropleth\": [{\"colorbar\": {\"outlinewidth\": 0, \"ticks\": \"\"}, \"type\": \"choropleth\"}], \"contour\": [{\"colorbar\": {\"outlinewidth\": 0, \"ticks\": \"\"}, \"colorscale\": [[0.0, \"#0d0887\"], [0.1111111111111111, \"#46039f\"], [0.2222222222222222, \"#7201a8\"], [0.3333333333333333, \"#9c179e\"], [0.4444444444444444, \"#bd3786\"], [0.5555555555555556, \"#d8576b\"], [0.6666666666666666, \"#ed7953\"], [0.7777777777777778, \"#fb9f3a\"], [0.8888888888888888, \"#fdca26\"], [1.0, \"#f0f921\"]], \"type\": \"contour\"}], \"contourcarpet\": [{\"colorbar\": {\"outlinewidth\": 0, \"ticks\": \"\"}, \"type\": \"contourcarpet\"}], \"heatmap\": [{\"colorbar\": {\"outlinewidth\": 0, \"ticks\": \"\"}, \"colorscale\": [[0.0, \"#0d0887\"], [0.1111111111111111, \"#46039f\"], [0.2222222222222222, \"#7201a8\"], [0.3333333333333333, \"#9c179e\"], [0.4444444444444444, \"#bd3786\"], [0.5555555555555556, \"#d8576b\"], [0.6666666666666666, \"#ed7953\"], [0.7777777777777778, \"#fb9f3a\"], [0.8888888888888888, \"#fdca26\"], [1.0, \"#f0f921\"]], \"type\": \"heatmap\"}], \"heatmapgl\": [{\"colorbar\": {\"outlinewidth\": 0, \"ticks\": \"\"}, \"colorscale\": [[0.0, \"#0d0887\"], [0.1111111111111111, \"#46039f\"], [0.2222222222222222, \"#7201a8\"], [0.3333333333333333, \"#9c179e\"], [0.4444444444444444, \"#bd3786\"], [0.5555555555555556, \"#d8576b\"], [0.6666666666666666, \"#ed7953\"], [0.7777777777777778, \"#fb9f3a\"], [0.8888888888888888, \"#fdca26\"], [1.0, \"#f0f921\"]], \"type\": \"heatmapgl\"}], \"histogram\": [{\"marker\": {\"colorbar\": {\"outlinewidth\": 0, \"ticks\": \"\"}}, \"type\": \"histogram\"}], \"histogram2d\": [{\"colorbar\": {\"outlinewidth\": 0, \"ticks\": \"\"}, \"colorscale\": [[0.0, \"#0d0887\"], [0.1111111111111111, \"#46039f\"], [0.2222222222222222, \"#7201a8\"], [0.3333333333333333, \"#9c179e\"], [0.4444444444444444, \"#bd3786\"], [0.5555555555555556, \"#d8576b\"], [0.6666666666666666, \"#ed7953\"], [0.7777777777777778, \"#fb9f3a\"], [0.8888888888888888, \"#fdca26\"], [1.0, \"#f0f921\"]], \"type\": \"histogram2d\"}], \"histogram2dcontour\": [{\"colorbar\": {\"outlinewidth\": 0, \"ticks\": \"\"}, \"colorscale\": [[0.0, \"#0d0887\"], [0.1111111111111111, \"#46039f\"], [0.2222222222222222, \"#7201a8\"], [0.3333333333333333, \"#9c179e\"], [0.4444444444444444, \"#bd3786\"], [0.5555555555555556, \"#d8576b\"], [0.6666666666666666, \"#ed7953\"], [0.7777777777777778, \"#fb9f3a\"], [0.8888888888888888, \"#fdca26\"], [1.0, \"#f0f921\"]], \"type\": \"histogram2dcontour\"}], \"mesh3d\": [{\"colorbar\": {\"outlinewidth\": 0, \"ticks\": \"\"}, \"type\": \"mesh3d\"}], \"parcoords\": [{\"line\": {\"colorbar\": {\"outlinewidth\": 0, \"ticks\": \"\"}}, \"type\": \"parcoords\"}], \"pie\": [{\"automargin\": true, \"type\": \"pie\"}], \"scatter\": [{\"marker\": {\"colorbar\": {\"outlinewidth\": 0, \"ticks\": \"\"}}, \"type\": \"scatter\"}], \"scatter3d\": [{\"line\": {\"colorbar\": {\"outlinewidth\": 0, \"ticks\": \"\"}}, \"marker\": {\"colorbar\": {\"outlinewidth\": 0, \"ticks\": \"\"}}, \"type\": \"scatter3d\"}], \"scattercarpet\": [{\"marker\": {\"colorbar\": {\"outlinewidth\": 0, \"ticks\": \"\"}}, \"type\": \"scattercarpet\"}], \"scattergeo\": [{\"marker\": {\"colorbar\": {\"outlinewidth\": 0, \"ticks\": \"\"}}, \"type\": \"scattergeo\"}], \"scattergl\": [{\"marker\": {\"colorbar\": {\"outlinewidth\": 0, \"ticks\": \"\"}}, \"type\": \"scattergl\"}], \"scattermapbox\": [{\"marker\": {\"colorbar\": {\"outlinewidth\": 0, \"ticks\": \"\"}}, \"type\": \"scattermapbox\"}], \"scatterpolar\": [{\"marker\": {\"colorbar\": {\"outlinewidth\": 0, \"ticks\": \"\"}}, \"type\": \"scatterpolar\"}], \"scatterpolargl\": [{\"marker\": {\"colorbar\": {\"outlinewidth\": 0, \"ticks\": \"\"}}, \"type\": \"scatterpolargl\"}], \"scatterternary\": [{\"marker\": {\"colorbar\": {\"outlinewidth\": 0, \"ticks\": \"\"}}, \"type\": \"scatterternary\"}], \"surface\": [{\"colorbar\": {\"outlinewidth\": 0, \"ticks\": \"\"}, \"colorscale\": [[0.0, \"#0d0887\"], [0.1111111111111111, \"#46039f\"], [0.2222222222222222, \"#7201a8\"], [0.3333333333333333, \"#9c179e\"], [0.4444444444444444, \"#bd3786\"], [0.5555555555555556, \"#d8576b\"], [0.6666666666666666, \"#ed7953\"], [0.7777777777777778, \"#fb9f3a\"], [0.8888888888888888, \"#fdca26\"], [1.0, \"#f0f921\"]], \"type\": \"surface\"}], \"table\": [{\"cells\": {\"fill\": {\"color\": \"#EBF0F8\"}, \"line\": {\"color\": \"white\"}}, \"header\": {\"fill\": {\"color\": \"#C8D4E3\"}, \"line\": {\"color\": \"white\"}}, \"type\": \"table\"}]}, \"layout\": {\"annotationdefaults\": {\"arrowcolor\": \"#2a3f5f\", \"arrowhead\": 0, \"arrowwidth\": 1}, \"coloraxis\": {\"colorbar\": {\"outlinewidth\": 0, \"ticks\": \"\"}}, \"colorscale\": {\"diverging\": [[0, \"#8e0152\"], [0.1, \"#c51b7d\"], [0.2, \"#de77ae\"], [0.3, \"#f1b6da\"], [0.4, \"#fde0ef\"], [0.5, \"#f7f7f7\"], [0.6, \"#e6f5d0\"], [0.7, \"#b8e186\"], [0.8, \"#7fbc41\"], [0.9, \"#4d9221\"], [1, \"#276419\"]], \"sequential\": [[0.0, \"#0d0887\"], [0.1111111111111111, \"#46039f\"], [0.2222222222222222, \"#7201a8\"], [0.3333333333333333, \"#9c179e\"], [0.4444444444444444, \"#bd3786\"], [0.5555555555555556, \"#d8576b\"], [0.6666666666666666, \"#ed7953\"], [0.7777777777777778, \"#fb9f3a\"], [0.8888888888888888, \"#fdca26\"], [1.0, \"#f0f921\"]], \"sequentialminus\": [[0.0, \"#0d0887\"], [0.1111111111111111, \"#46039f\"], [0.2222222222222222, \"#7201a8\"], [0.3333333333333333, \"#9c179e\"], [0.4444444444444444, \"#bd3786\"], [0.5555555555555556, \"#d8576b\"], [0.6666666666666666, \"#ed7953\"], [0.7777777777777778, \"#fb9f3a\"], [0.8888888888888888, \"#fdca26\"], [1.0, \"#f0f921\"]]}, \"colorway\": [\"#636efa\", \"#EF553B\", \"#00cc96\", \"#ab63fa\", \"#FFA15A\", \"#19d3f3\", \"#FF6692\", \"#B6E880\", \"#FF97FF\", \"#FECB52\"], \"font\": {\"color\": \"#2a3f5f\"}, \"geo\": {\"bgcolor\": \"white\", \"lakecolor\": \"white\", \"landcolor\": \"#E5ECF6\", \"showlakes\": true, \"showland\": true, \"subunitcolor\": \"white\"}, \"hoverlabel\": {\"align\": \"left\"}, \"hovermode\": \"closest\", \"mapbox\": {\"style\": \"light\"}, \"paper_bgcolor\": \"white\", \"plot_bgcolor\": \"#E5ECF6\", \"polar\": {\"angularaxis\": {\"gridcolor\": \"white\", \"linecolor\": \"white\", \"ticks\": \"\"}, \"bgcolor\": \"#E5ECF6\", \"radialaxis\": {\"gridcolor\": \"white\", \"linecolor\": \"white\", \"ticks\": \"\"}}, \"scene\": {\"xaxis\": {\"backgroundcolor\": \"#E5ECF6\", \"gridcolor\": \"white\", \"gridwidth\": 2, \"linecolor\": \"white\", \"showbackground\": true, \"ticks\": \"\", \"zerolinecolor\": \"white\"}, \"yaxis\": {\"backgroundcolor\": \"#E5ECF6\", \"gridcolor\": \"white\", \"gridwidth\": 2, \"linecolor\": \"white\", \"showbackground\": true, \"ticks\": \"\", \"zerolinecolor\": \"white\"}, \"zaxis\": {\"backgroundcolor\": \"#E5ECF6\", \"gridcolor\": \"white\", \"gridwidth\": 2, \"linecolor\": \"white\", \"showbackground\": true, \"ticks\": \"\", \"zerolinecolor\": \"white\"}}, \"shapedefaults\": {\"line\": {\"color\": \"#2a3f5f\"}}, \"ternary\": {\"aaxis\": {\"gridcolor\": \"white\", \"linecolor\": \"white\", \"ticks\": \"\"}, \"baxis\": {\"gridcolor\": \"white\", \"linecolor\": \"white\", \"ticks\": \"\"}, \"bgcolor\": \"#E5ECF6\", \"caxis\": {\"gridcolor\": \"white\", \"linecolor\": \"white\", \"ticks\": \"\"}}, \"title\": {\"x\": 0.05}, \"xaxis\": {\"automargin\": true, \"gridcolor\": \"white\", \"linecolor\": \"white\", \"ticks\": \"\", \"title\": {\"standoff\": 15}, \"zerolinecolor\": \"white\", \"zerolinewidth\": 2}, \"yaxis\": {\"automargin\": true, \"gridcolor\": \"white\", \"linecolor\": \"white\", \"ticks\": \"\", \"title\": {\"standoff\": 15}, \"zerolinecolor\": \"white\", \"zerolinewidth\": 2}}}, \"title\": {\"text\": \"Unigram Word Frequencies- Replies\"}, \"xaxis\": {\"anchor\": \"y\", \"domain\": [0.0, 1.0], \"title\": {\"text\": \"x\"}}, \"yaxis\": {\"anchor\": \"x\", \"domain\": [0.0, 1.0], \"title\": {\"text\": \"Frequency\"}}},\n",
              "                        {\"responsive\": true}\n",
              "                    ).then(function(){\n",
              "                            \n",
              "var gd = document.getElementById('4c0dce32-736e-4be6-ac45-2fba564a8c16');\n",
              "var x = new MutationObserver(function (mutations, observer) {{\n",
              "        var display = window.getComputedStyle(gd).display;\n",
              "        if (!display || display === 'none') {{\n",
              "            console.log([gd, 'removed!']);\n",
              "            Plotly.purge(gd);\n",
              "            observer.disconnect();\n",
              "        }}\n",
              "}});\n",
              "\n",
              "// Listen for the removal of the full notebook cells\n",
              "var notebookContainer = gd.closest('#notebook-container');\n",
              "if (notebookContainer) {{\n",
              "    x.observe(notebookContainer, {childList: true});\n",
              "}}\n",
              "\n",
              "// Listen for the clearing of the current output cell\n",
              "var outputEl = gd.closest('.output');\n",
              "if (outputEl) {{\n",
              "    x.observe(outputEl, {childList: true});\n",
              "}}\n",
              "\n",
              "                        })\n",
              "                };\n",
              "                \n",
              "            </script>\n",
              "        </div>\n",
              "</body>\n",
              "</html>"
            ]
          },
          "metadata": {
            "tags": []
          }
        }
      ]
    },
    {
      "cell_type": "markdown",
      "metadata": {
        "id": "9QZAHFGXrglv"
      },
      "source": [
        "### Part 6- Visualize Bigram Frequencies\n",
        "The bigram frequency distribution stores all the word associations in the form of a nested dictionary. I will visualize some interesting key words to see what other words they are associated with.\n",
        "\n",
        "There are three cgrp autoinjector medications: Aimovig, Emgality, and Ajovy. For every drug (word), I will visualize bigrams for each word, for both posts and replies.\n",
        "\n",
        "#### Aimovig Post and Replies Bigrams"
      ]
    },
    {
      "cell_type": "code",
      "metadata": {
        "colab": {
          "base_uri": "https://localhost:8080/",
          "height": 542
        },
        "id": "XA3zWglOrnwF",
        "outputId": "c401bcbf-3437-4643-84d9-048dd7bb7e0c"
      },
      "source": [
        "# convert selected bigrams into dataframes\n",
        "aimovig_post = pd.Series(dict(post_freq_dist['aimovig'])).to_frame()\n",
        "aimovig_post.columns = ['Words']\n",
        "px.bar(aimovig_post, x=aimovig_post.index, y='Words',color='Words',title=\"Bigrams- Aimovig Post\").show()"
      ],
      "execution_count": null,
      "outputs": [
        {
          "output_type": "display_data",
          "data": {
            "text/html": [
              "<html>\n",
              "<head><meta charset=\"utf-8\" /></head>\n",
              "<body>\n",
              "    <div>\n",
              "            <script src=\"https://cdnjs.cloudflare.com/ajax/libs/mathjax/2.7.5/MathJax.js?config=TeX-AMS-MML_SVG\"></script><script type=\"text/javascript\">if (window.MathJax) {MathJax.Hub.Config({SVG: {font: \"STIX-Web\"}});}</script>\n",
              "                <script type=\"text/javascript\">window.PlotlyConfig = {MathJaxConfig: 'local'};</script>\n",
              "        <script src=\"https://cdn.plot.ly/plotly-latest.min.js\"></script>    \n",
              "            <div id=\"8d010ad1-d620-40ba-ac69-bb67da620e7c\" class=\"plotly-graph-div\" style=\"height:525px; width:100%;\"></div>\n",
              "            <script type=\"text/javascript\">\n",
              "                \n",
              "                    window.PLOTLYENV=window.PLOTLYENV || {};\n",
              "                    \n",
              "                if (document.getElementById(\"8d010ad1-d620-40ba-ac69-bb67da620e7c\")) {\n",
              "                    Plotly.newPlot(\n",
              "                        '8d010ad1-d620-40ba-ac69-bb67da620e7c',\n",
              "                        [{\"alignmentgroup\": \"True\", \"hoverlabel\": {\"namelength\": 0}, \"hovertemplate\": \"x=%{x}<br>Words=%{marker.color}\", \"legendgroup\": \"\", \"marker\": {\"color\": [4, 1, 1, 1, 1, 1, 1, 1, 1, 1, 1, 1, 1, 1, 1, 1, 1, 1, 1, 1, 2, 1, 1, 1, 1, 1, 1, 1, 1, 1, 1, 1, 1, 1, 1, 1, 1, 1, 2, 1, 1, 1, 1, 1, 1, 1, 1, 1, 1, 1], \"coloraxis\": \"coloraxis\"}, \"name\": \"\", \"offsetgroup\": \"\", \"orientation\": \"v\", \"showlegend\": false, \"textposition\": \"auto\", \"type\": \"bar\", \"x\": [\"shot\", \"fuck\", \"stops\", \"emgality\", \"imo\", \"days\", \"ajovy\", \"6436\", \"injection\", \"months\", \"suddenly\", \"probably\", \"novartis\", \"gave\", \"lower\", \"doctor\", \"caused\", \"known\", \"cause\", \"wanted\", \"one\", \"miss\", \"laughing\", \"life\", \"body\", \"clinical\", \"wearing\", \"yet\", \"users\", \"approved\", \"talking\", \"want\", \"took\", \"due\", \"mid\", \"went\", \"however\", \"thankfully\", \"first\", \"two\", \"headaches\", \"regular\", \"post\", \"cheers\", \"injections\", \"increased\", \"migraine\", \"positive\", \"similar\", \"receptor\"], \"xaxis\": \"x\", \"y\": [4, 1, 1, 1, 1, 1, 1, 1, 1, 1, 1, 1, 1, 1, 1, 1, 1, 1, 1, 1, 2, 1, 1, 1, 1, 1, 1, 1, 1, 1, 1, 1, 1, 1, 1, 1, 1, 1, 2, 1, 1, 1, 1, 1, 1, 1, 1, 1, 1, 1], \"yaxis\": \"y\"}],\n",
              "                        {\"barmode\": \"relative\", \"coloraxis\": {\"colorbar\": {\"title\": {\"text\": \"Words\"}}, \"colorscale\": [[0.0, \"#0d0887\"], [0.1111111111111111, \"#46039f\"], [0.2222222222222222, \"#7201a8\"], [0.3333333333333333, \"#9c179e\"], [0.4444444444444444, \"#bd3786\"], [0.5555555555555556, \"#d8576b\"], [0.6666666666666666, \"#ed7953\"], [0.7777777777777778, \"#fb9f3a\"], [0.8888888888888888, \"#fdca26\"], [1.0, \"#f0f921\"]]}, \"legend\": {\"tracegroupgap\": 0}, \"template\": {\"data\": {\"bar\": [{\"error_x\": {\"color\": \"#2a3f5f\"}, \"error_y\": {\"color\": \"#2a3f5f\"}, \"marker\": {\"line\": {\"color\": \"#E5ECF6\", \"width\": 0.5}}, \"type\": \"bar\"}], \"barpolar\": [{\"marker\": {\"line\": {\"color\": \"#E5ECF6\", \"width\": 0.5}}, \"type\": \"barpolar\"}], \"carpet\": [{\"aaxis\": {\"endlinecolor\": \"#2a3f5f\", \"gridcolor\": \"white\", \"linecolor\": \"white\", \"minorgridcolor\": \"white\", \"startlinecolor\": \"#2a3f5f\"}, \"baxis\": {\"endlinecolor\": \"#2a3f5f\", \"gridcolor\": \"white\", \"linecolor\": \"white\", \"minorgridcolor\": \"white\", \"startlinecolor\": \"#2a3f5f\"}, \"type\": \"carpet\"}], \"choropleth\": [{\"colorbar\": {\"outlinewidth\": 0, \"ticks\": \"\"}, \"type\": \"choropleth\"}], \"contour\": [{\"colorbar\": {\"outlinewidth\": 0, \"ticks\": \"\"}, \"colorscale\": [[0.0, \"#0d0887\"], [0.1111111111111111, \"#46039f\"], [0.2222222222222222, \"#7201a8\"], [0.3333333333333333, \"#9c179e\"], [0.4444444444444444, \"#bd3786\"], [0.5555555555555556, \"#d8576b\"], [0.6666666666666666, \"#ed7953\"], [0.7777777777777778, \"#fb9f3a\"], [0.8888888888888888, \"#fdca26\"], [1.0, \"#f0f921\"]], \"type\": \"contour\"}], \"contourcarpet\": [{\"colorbar\": {\"outlinewidth\": 0, \"ticks\": \"\"}, \"type\": \"contourcarpet\"}], \"heatmap\": [{\"colorbar\": {\"outlinewidth\": 0, \"ticks\": \"\"}, \"colorscale\": [[0.0, \"#0d0887\"], [0.1111111111111111, \"#46039f\"], [0.2222222222222222, \"#7201a8\"], [0.3333333333333333, \"#9c179e\"], [0.4444444444444444, \"#bd3786\"], [0.5555555555555556, \"#d8576b\"], [0.6666666666666666, \"#ed7953\"], [0.7777777777777778, \"#fb9f3a\"], [0.8888888888888888, \"#fdca26\"], [1.0, \"#f0f921\"]], \"type\": \"heatmap\"}], \"heatmapgl\": [{\"colorbar\": {\"outlinewidth\": 0, \"ticks\": \"\"}, \"colorscale\": [[0.0, \"#0d0887\"], [0.1111111111111111, \"#46039f\"], [0.2222222222222222, \"#7201a8\"], [0.3333333333333333, \"#9c179e\"], [0.4444444444444444, \"#bd3786\"], [0.5555555555555556, \"#d8576b\"], [0.6666666666666666, \"#ed7953\"], [0.7777777777777778, \"#fb9f3a\"], [0.8888888888888888, \"#fdca26\"], [1.0, \"#f0f921\"]], \"type\": \"heatmapgl\"}], \"histogram\": [{\"marker\": {\"colorbar\": {\"outlinewidth\": 0, \"ticks\": \"\"}}, \"type\": \"histogram\"}], \"histogram2d\": [{\"colorbar\": {\"outlinewidth\": 0, \"ticks\": \"\"}, \"colorscale\": [[0.0, \"#0d0887\"], [0.1111111111111111, \"#46039f\"], [0.2222222222222222, \"#7201a8\"], [0.3333333333333333, \"#9c179e\"], [0.4444444444444444, \"#bd3786\"], [0.5555555555555556, \"#d8576b\"], [0.6666666666666666, \"#ed7953\"], [0.7777777777777778, \"#fb9f3a\"], [0.8888888888888888, \"#fdca26\"], [1.0, \"#f0f921\"]], \"type\": \"histogram2d\"}], \"histogram2dcontour\": [{\"colorbar\": {\"outlinewidth\": 0, \"ticks\": \"\"}, \"colorscale\": [[0.0, \"#0d0887\"], [0.1111111111111111, \"#46039f\"], [0.2222222222222222, \"#7201a8\"], [0.3333333333333333, \"#9c179e\"], [0.4444444444444444, \"#bd3786\"], [0.5555555555555556, \"#d8576b\"], [0.6666666666666666, \"#ed7953\"], [0.7777777777777778, \"#fb9f3a\"], [0.8888888888888888, \"#fdca26\"], [1.0, \"#f0f921\"]], \"type\": \"histogram2dcontour\"}], \"mesh3d\": [{\"colorbar\": {\"outlinewidth\": 0, \"ticks\": \"\"}, \"type\": \"mesh3d\"}], \"parcoords\": [{\"line\": {\"colorbar\": {\"outlinewidth\": 0, \"ticks\": \"\"}}, \"type\": \"parcoords\"}], \"pie\": [{\"automargin\": true, \"type\": \"pie\"}], \"scatter\": [{\"marker\": {\"colorbar\": {\"outlinewidth\": 0, \"ticks\": \"\"}}, \"type\": \"scatter\"}], \"scatter3d\": [{\"line\": {\"colorbar\": {\"outlinewidth\": 0, \"ticks\": \"\"}}, \"marker\": {\"colorbar\": {\"outlinewidth\": 0, \"ticks\": \"\"}}, \"type\": \"scatter3d\"}], \"scattercarpet\": [{\"marker\": {\"colorbar\": {\"outlinewidth\": 0, \"ticks\": \"\"}}, \"type\": \"scattercarpet\"}], \"scattergeo\": [{\"marker\": {\"colorbar\": {\"outlinewidth\": 0, \"ticks\": \"\"}}, \"type\": \"scattergeo\"}], \"scattergl\": [{\"marker\": {\"colorbar\": {\"outlinewidth\": 0, \"ticks\": \"\"}}, \"type\": \"scattergl\"}], \"scattermapbox\": [{\"marker\": {\"colorbar\": {\"outlinewidth\": 0, \"ticks\": \"\"}}, \"type\": \"scattermapbox\"}], \"scatterpolar\": [{\"marker\": {\"colorbar\": {\"outlinewidth\": 0, \"ticks\": \"\"}}, \"type\": \"scatterpolar\"}], \"scatterpolargl\": [{\"marker\": {\"colorbar\": {\"outlinewidth\": 0, \"ticks\": \"\"}}, \"type\": \"scatterpolargl\"}], \"scatterternary\": [{\"marker\": {\"colorbar\": {\"outlinewidth\": 0, \"ticks\": \"\"}}, \"type\": \"scatterternary\"}], \"surface\": [{\"colorbar\": {\"outlinewidth\": 0, \"ticks\": \"\"}, \"colorscale\": [[0.0, \"#0d0887\"], [0.1111111111111111, \"#46039f\"], [0.2222222222222222, \"#7201a8\"], [0.3333333333333333, \"#9c179e\"], [0.4444444444444444, \"#bd3786\"], [0.5555555555555556, \"#d8576b\"], [0.6666666666666666, \"#ed7953\"], [0.7777777777777778, \"#fb9f3a\"], [0.8888888888888888, \"#fdca26\"], [1.0, \"#f0f921\"]], \"type\": \"surface\"}], \"table\": [{\"cells\": {\"fill\": {\"color\": \"#EBF0F8\"}, \"line\": {\"color\": \"white\"}}, \"header\": {\"fill\": {\"color\": \"#C8D4E3\"}, \"line\": {\"color\": \"white\"}}, \"type\": \"table\"}]}, \"layout\": {\"annotationdefaults\": {\"arrowcolor\": \"#2a3f5f\", \"arrowhead\": 0, \"arrowwidth\": 1}, \"coloraxis\": {\"colorbar\": {\"outlinewidth\": 0, \"ticks\": \"\"}}, \"colorscale\": {\"diverging\": [[0, \"#8e0152\"], [0.1, \"#c51b7d\"], [0.2, \"#de77ae\"], [0.3, \"#f1b6da\"], [0.4, \"#fde0ef\"], [0.5, \"#f7f7f7\"], [0.6, \"#e6f5d0\"], [0.7, \"#b8e186\"], [0.8, \"#7fbc41\"], [0.9, \"#4d9221\"], [1, \"#276419\"]], \"sequential\": [[0.0, \"#0d0887\"], [0.1111111111111111, \"#46039f\"], [0.2222222222222222, \"#7201a8\"], [0.3333333333333333, \"#9c179e\"], [0.4444444444444444, \"#bd3786\"], [0.5555555555555556, \"#d8576b\"], [0.6666666666666666, \"#ed7953\"], [0.7777777777777778, \"#fb9f3a\"], [0.8888888888888888, \"#fdca26\"], [1.0, \"#f0f921\"]], \"sequentialminus\": [[0.0, \"#0d0887\"], [0.1111111111111111, \"#46039f\"], [0.2222222222222222, \"#7201a8\"], [0.3333333333333333, \"#9c179e\"], [0.4444444444444444, \"#bd3786\"], [0.5555555555555556, \"#d8576b\"], [0.6666666666666666, \"#ed7953\"], [0.7777777777777778, \"#fb9f3a\"], [0.8888888888888888, \"#fdca26\"], [1.0, \"#f0f921\"]]}, \"colorway\": [\"#636efa\", \"#EF553B\", \"#00cc96\", \"#ab63fa\", \"#FFA15A\", \"#19d3f3\", \"#FF6692\", \"#B6E880\", \"#FF97FF\", \"#FECB52\"], \"font\": {\"color\": \"#2a3f5f\"}, \"geo\": {\"bgcolor\": \"white\", \"lakecolor\": \"white\", \"landcolor\": \"#E5ECF6\", \"showlakes\": true, \"showland\": true, \"subunitcolor\": \"white\"}, \"hoverlabel\": {\"align\": \"left\"}, \"hovermode\": \"closest\", \"mapbox\": {\"style\": \"light\"}, \"paper_bgcolor\": \"white\", \"plot_bgcolor\": \"#E5ECF6\", \"polar\": {\"angularaxis\": {\"gridcolor\": \"white\", \"linecolor\": \"white\", \"ticks\": \"\"}, \"bgcolor\": \"#E5ECF6\", \"radialaxis\": {\"gridcolor\": \"white\", \"linecolor\": \"white\", \"ticks\": \"\"}}, \"scene\": {\"xaxis\": {\"backgroundcolor\": \"#E5ECF6\", \"gridcolor\": \"white\", \"gridwidth\": 2, \"linecolor\": \"white\", \"showbackground\": true, \"ticks\": \"\", \"zerolinecolor\": \"white\"}, \"yaxis\": {\"backgroundcolor\": \"#E5ECF6\", \"gridcolor\": \"white\", \"gridwidth\": 2, \"linecolor\": \"white\", \"showbackground\": true, \"ticks\": \"\", \"zerolinecolor\": \"white\"}, \"zaxis\": {\"backgroundcolor\": \"#E5ECF6\", \"gridcolor\": \"white\", \"gridwidth\": 2, \"linecolor\": \"white\", \"showbackground\": true, \"ticks\": \"\", \"zerolinecolor\": \"white\"}}, \"shapedefaults\": {\"line\": {\"color\": \"#2a3f5f\"}}, \"ternary\": {\"aaxis\": {\"gridcolor\": \"white\", \"linecolor\": \"white\", \"ticks\": \"\"}, \"baxis\": {\"gridcolor\": \"white\", \"linecolor\": \"white\", \"ticks\": \"\"}, \"bgcolor\": \"#E5ECF6\", \"caxis\": {\"gridcolor\": \"white\", \"linecolor\": \"white\", \"ticks\": \"\"}}, \"title\": {\"x\": 0.05}, \"xaxis\": {\"automargin\": true, \"gridcolor\": \"white\", \"linecolor\": \"white\", \"ticks\": \"\", \"title\": {\"standoff\": 15}, \"zerolinecolor\": \"white\", \"zerolinewidth\": 2}, \"yaxis\": {\"automargin\": true, \"gridcolor\": \"white\", \"linecolor\": \"white\", \"ticks\": \"\", \"title\": {\"standoff\": 15}, \"zerolinecolor\": \"white\", \"zerolinewidth\": 2}}}, \"title\": {\"text\": \"Bigrams- Aimovig Post\"}, \"xaxis\": {\"anchor\": \"y\", \"domain\": [0.0, 1.0], \"title\": {\"text\": \"x\"}}, \"yaxis\": {\"anchor\": \"x\", \"domain\": [0.0, 1.0], \"title\": {\"text\": \"Words\"}}},\n",
              "                        {\"responsive\": true}\n",
              "                    ).then(function(){\n",
              "                            \n",
              "var gd = document.getElementById('8d010ad1-d620-40ba-ac69-bb67da620e7c');\n",
              "var x = new MutationObserver(function (mutations, observer) {{\n",
              "        var display = window.getComputedStyle(gd).display;\n",
              "        if (!display || display === 'none') {{\n",
              "            console.log([gd, 'removed!']);\n",
              "            Plotly.purge(gd);\n",
              "            observer.disconnect();\n",
              "        }}\n",
              "}});\n",
              "\n",
              "// Listen for the removal of the full notebook cells\n",
              "var notebookContainer = gd.closest('#notebook-container');\n",
              "if (notebookContainer) {{\n",
              "    x.observe(notebookContainer, {childList: true});\n",
              "}}\n",
              "\n",
              "// Listen for the clearing of the current output cell\n",
              "var outputEl = gd.closest('.output');\n",
              "if (outputEl) {{\n",
              "    x.observe(outputEl, {childList: true});\n",
              "}}\n",
              "\n",
              "                        })\n",
              "                };\n",
              "                \n",
              "            </script>\n",
              "        </div>\n",
              "</body>\n",
              "</html>"
            ]
          },
          "metadata": {
            "tags": []
          }
        }
      ]
    },
    {
      "cell_type": "code",
      "metadata": {
        "colab": {
          "base_uri": "https://localhost:8080/",
          "height": 542
        },
        "id": "mhs4IroQuLAb",
        "outputId": "9f179adc-379c-45c8-939d-e9d12bb2e591"
      },
      "source": [
        "# convert selected bigrams into dataframes\n",
        "aimovig_replies = pd.Series(dict(replies_freq_dist['aimovig'])).to_frame()\n",
        "aimovig_replies.columns = ['Words']\n",
        "px.bar(aimovig_replies, x=aimovig_replies.index, y='Words',color='Words',title=\"Bigrams- Aimovig Replies\").show()"
      ],
      "execution_count": null,
      "outputs": [
        {
          "output_type": "display_data",
          "data": {
            "text/html": [
              "<html>\n",
              "<head><meta charset=\"utf-8\" /></head>\n",
              "<body>\n",
              "    <div>\n",
              "            <script src=\"https://cdnjs.cloudflare.com/ajax/libs/mathjax/2.7.5/MathJax.js?config=TeX-AMS-MML_SVG\"></script><script type=\"text/javascript\">if (window.MathJax) {MathJax.Hub.Config({SVG: {font: \"STIX-Web\"}});}</script>\n",
              "                <script type=\"text/javascript\">window.PlotlyConfig = {MathJaxConfig: 'local'};</script>\n",
              "        <script src=\"https://cdn.plot.ly/plotly-latest.min.js\"></script>    \n",
              "            <div id=\"f1df731e-c170-4f0d-8ebe-c3edbcf6fddc\" class=\"plotly-graph-div\" style=\"height:525px; width:100%;\"></div>\n",
              "            <script type=\"text/javascript\">\n",
              "                \n",
              "                    window.PLOTLYENV=window.PLOTLYENV || {};\n",
              "                    \n",
              "                if (document.getElementById(\"f1df731e-c170-4f0d-8ebe-c3edbcf6fddc\")) {\n",
              "                    Plotly.newPlot(\n",
              "                        'f1df731e-c170-4f0d-8ebe-c3edbcf6fddc',\n",
              "                        [{\"alignmentgroup\": \"True\", \"hoverlabel\": {\"namelength\": 0}, \"hovertemplate\": \"x=%{x}<br>Words=%{marker.color}\", \"legendgroup\": \"\", \"marker\": {\"color\": [1, 1, 2, 1, 1, 2, 1, 1, 1, 1, 1, 1, 1, 1, 1, 3, 2, 3, 2, 1, 1, 1, 1, 1, 1, 1, 1, 1, 1, 1, 1, 1, 1, 1, 1, 1, 1, 1, 1, 1, 2, 1, 1, 1, 1, 1, 1, 1, 1, 1, 1, 1, 1, 1], \"coloraxis\": \"coloraxis\"}, \"name\": \"\", \"offsetgroup\": \"\", \"orientation\": \"v\", \"showlegend\": false, \"textposition\": \"auto\", \"type\": \"bar\", \"x\": [\"hurt\", \"among\", \"injection\", \"far\", \"amazing\", \"worked\", \"effective\", \"side\", \"injections\", \"try\", \"doctor\", \"first\", \"shot\", \"inj\", \"autoinjector\", \"ajovy\", \"caused\", \"months\", \"switched\", \"yes\", \"also\", \"february\", \"didnt\", \"month\", \"feel\", \"stopped\", \"switching\", \"magic\", \"deal\", \"constipation\", \"let\", \"two\", \"definite\", \"since\", \"helped\", \"quit\", \"free\", \"ally\", \"833\", \"amgen\", \"pay\", \"inconsistent\", \"improvement\", \"couple\", \"much\", \"tomorrow\", \"delivery\", \"switch\", \"today\", \"long\", \"worse\", \"70mg\", \"start\", \"thank\"], \"xaxis\": \"x\", \"y\": [1, 1, 2, 1, 1, 2, 1, 1, 1, 1, 1, 1, 1, 1, 1, 3, 2, 3, 2, 1, 1, 1, 1, 1, 1, 1, 1, 1, 1, 1, 1, 1, 1, 1, 1, 1, 1, 1, 1, 1, 2, 1, 1, 1, 1, 1, 1, 1, 1, 1, 1, 1, 1, 1], \"yaxis\": \"y\"}],\n",
              "                        {\"barmode\": \"relative\", \"coloraxis\": {\"colorbar\": {\"title\": {\"text\": \"Words\"}}, \"colorscale\": [[0.0, \"#0d0887\"], [0.1111111111111111, \"#46039f\"], [0.2222222222222222, \"#7201a8\"], [0.3333333333333333, \"#9c179e\"], [0.4444444444444444, \"#bd3786\"], [0.5555555555555556, \"#d8576b\"], [0.6666666666666666, \"#ed7953\"], [0.7777777777777778, \"#fb9f3a\"], [0.8888888888888888, \"#fdca26\"], [1.0, \"#f0f921\"]]}, \"legend\": {\"tracegroupgap\": 0}, \"template\": {\"data\": {\"bar\": [{\"error_x\": {\"color\": \"#2a3f5f\"}, \"error_y\": {\"color\": \"#2a3f5f\"}, \"marker\": {\"line\": {\"color\": \"#E5ECF6\", \"width\": 0.5}}, \"type\": \"bar\"}], \"barpolar\": [{\"marker\": {\"line\": {\"color\": \"#E5ECF6\", \"width\": 0.5}}, \"type\": \"barpolar\"}], \"carpet\": [{\"aaxis\": {\"endlinecolor\": \"#2a3f5f\", \"gridcolor\": \"white\", \"linecolor\": \"white\", \"minorgridcolor\": \"white\", \"startlinecolor\": \"#2a3f5f\"}, \"baxis\": {\"endlinecolor\": \"#2a3f5f\", \"gridcolor\": \"white\", \"linecolor\": \"white\", \"minorgridcolor\": \"white\", \"startlinecolor\": \"#2a3f5f\"}, \"type\": \"carpet\"}], \"choropleth\": [{\"colorbar\": {\"outlinewidth\": 0, \"ticks\": \"\"}, \"type\": \"choropleth\"}], \"contour\": [{\"colorbar\": {\"outlinewidth\": 0, \"ticks\": \"\"}, \"colorscale\": [[0.0, \"#0d0887\"], [0.1111111111111111, \"#46039f\"], [0.2222222222222222, \"#7201a8\"], [0.3333333333333333, \"#9c179e\"], [0.4444444444444444, \"#bd3786\"], [0.5555555555555556, \"#d8576b\"], [0.6666666666666666, \"#ed7953\"], [0.7777777777777778, \"#fb9f3a\"], [0.8888888888888888, \"#fdca26\"], [1.0, \"#f0f921\"]], \"type\": \"contour\"}], \"contourcarpet\": [{\"colorbar\": {\"outlinewidth\": 0, \"ticks\": \"\"}, \"type\": \"contourcarpet\"}], \"heatmap\": [{\"colorbar\": {\"outlinewidth\": 0, \"ticks\": \"\"}, \"colorscale\": [[0.0, \"#0d0887\"], [0.1111111111111111, \"#46039f\"], [0.2222222222222222, \"#7201a8\"], [0.3333333333333333, \"#9c179e\"], [0.4444444444444444, \"#bd3786\"], [0.5555555555555556, \"#d8576b\"], [0.6666666666666666, \"#ed7953\"], [0.7777777777777778, \"#fb9f3a\"], [0.8888888888888888, \"#fdca26\"], [1.0, \"#f0f921\"]], \"type\": \"heatmap\"}], \"heatmapgl\": [{\"colorbar\": {\"outlinewidth\": 0, \"ticks\": \"\"}, \"colorscale\": [[0.0, \"#0d0887\"], [0.1111111111111111, \"#46039f\"], [0.2222222222222222, \"#7201a8\"], [0.3333333333333333, \"#9c179e\"], [0.4444444444444444, \"#bd3786\"], [0.5555555555555556, \"#d8576b\"], [0.6666666666666666, \"#ed7953\"], [0.7777777777777778, \"#fb9f3a\"], [0.8888888888888888, \"#fdca26\"], [1.0, \"#f0f921\"]], \"type\": \"heatmapgl\"}], \"histogram\": [{\"marker\": {\"colorbar\": {\"outlinewidth\": 0, \"ticks\": \"\"}}, \"type\": \"histogram\"}], \"histogram2d\": [{\"colorbar\": {\"outlinewidth\": 0, \"ticks\": \"\"}, \"colorscale\": [[0.0, \"#0d0887\"], [0.1111111111111111, \"#46039f\"], [0.2222222222222222, \"#7201a8\"], [0.3333333333333333, \"#9c179e\"], [0.4444444444444444, \"#bd3786\"], [0.5555555555555556, \"#d8576b\"], [0.6666666666666666, \"#ed7953\"], [0.7777777777777778, \"#fb9f3a\"], [0.8888888888888888, \"#fdca26\"], [1.0, \"#f0f921\"]], \"type\": \"histogram2d\"}], \"histogram2dcontour\": [{\"colorbar\": {\"outlinewidth\": 0, \"ticks\": \"\"}, \"colorscale\": [[0.0, \"#0d0887\"], [0.1111111111111111, \"#46039f\"], [0.2222222222222222, \"#7201a8\"], [0.3333333333333333, \"#9c179e\"], [0.4444444444444444, \"#bd3786\"], [0.5555555555555556, \"#d8576b\"], [0.6666666666666666, \"#ed7953\"], [0.7777777777777778, \"#fb9f3a\"], [0.8888888888888888, \"#fdca26\"], [1.0, \"#f0f921\"]], \"type\": \"histogram2dcontour\"}], \"mesh3d\": [{\"colorbar\": {\"outlinewidth\": 0, \"ticks\": \"\"}, \"type\": \"mesh3d\"}], \"parcoords\": [{\"line\": {\"colorbar\": {\"outlinewidth\": 0, \"ticks\": \"\"}}, \"type\": \"parcoords\"}], \"pie\": [{\"automargin\": true, \"type\": \"pie\"}], \"scatter\": [{\"marker\": {\"colorbar\": {\"outlinewidth\": 0, \"ticks\": \"\"}}, \"type\": \"scatter\"}], \"scatter3d\": [{\"line\": {\"colorbar\": {\"outlinewidth\": 0, \"ticks\": \"\"}}, \"marker\": {\"colorbar\": {\"outlinewidth\": 0, \"ticks\": \"\"}}, \"type\": \"scatter3d\"}], \"scattercarpet\": [{\"marker\": {\"colorbar\": {\"outlinewidth\": 0, \"ticks\": \"\"}}, \"type\": \"scattercarpet\"}], \"scattergeo\": [{\"marker\": {\"colorbar\": {\"outlinewidth\": 0, \"ticks\": \"\"}}, \"type\": \"scattergeo\"}], \"scattergl\": [{\"marker\": {\"colorbar\": {\"outlinewidth\": 0, \"ticks\": \"\"}}, \"type\": \"scattergl\"}], \"scattermapbox\": [{\"marker\": {\"colorbar\": {\"outlinewidth\": 0, \"ticks\": \"\"}}, \"type\": \"scattermapbox\"}], \"scatterpolar\": [{\"marker\": {\"colorbar\": {\"outlinewidth\": 0, \"ticks\": \"\"}}, \"type\": \"scatterpolar\"}], \"scatterpolargl\": [{\"marker\": {\"colorbar\": {\"outlinewidth\": 0, \"ticks\": \"\"}}, \"type\": \"scatterpolargl\"}], \"scatterternary\": [{\"marker\": {\"colorbar\": {\"outlinewidth\": 0, \"ticks\": \"\"}}, \"type\": \"scatterternary\"}], \"surface\": [{\"colorbar\": {\"outlinewidth\": 0, \"ticks\": \"\"}, \"colorscale\": [[0.0, \"#0d0887\"], [0.1111111111111111, \"#46039f\"], [0.2222222222222222, \"#7201a8\"], [0.3333333333333333, \"#9c179e\"], [0.4444444444444444, \"#bd3786\"], [0.5555555555555556, \"#d8576b\"], [0.6666666666666666, \"#ed7953\"], [0.7777777777777778, \"#fb9f3a\"], [0.8888888888888888, \"#fdca26\"], [1.0, \"#f0f921\"]], \"type\": \"surface\"}], \"table\": [{\"cells\": {\"fill\": {\"color\": \"#EBF0F8\"}, \"line\": {\"color\": \"white\"}}, \"header\": {\"fill\": {\"color\": \"#C8D4E3\"}, \"line\": {\"color\": \"white\"}}, \"type\": \"table\"}]}, \"layout\": {\"annotationdefaults\": {\"arrowcolor\": \"#2a3f5f\", \"arrowhead\": 0, \"arrowwidth\": 1}, \"coloraxis\": {\"colorbar\": {\"outlinewidth\": 0, \"ticks\": \"\"}}, \"colorscale\": {\"diverging\": [[0, \"#8e0152\"], [0.1, \"#c51b7d\"], [0.2, \"#de77ae\"], [0.3, \"#f1b6da\"], [0.4, \"#fde0ef\"], [0.5, \"#f7f7f7\"], [0.6, \"#e6f5d0\"], [0.7, \"#b8e186\"], [0.8, \"#7fbc41\"], [0.9, \"#4d9221\"], [1, \"#276419\"]], \"sequential\": [[0.0, \"#0d0887\"], [0.1111111111111111, \"#46039f\"], [0.2222222222222222, \"#7201a8\"], [0.3333333333333333, \"#9c179e\"], [0.4444444444444444, \"#bd3786\"], [0.5555555555555556, \"#d8576b\"], [0.6666666666666666, \"#ed7953\"], [0.7777777777777778, \"#fb9f3a\"], [0.8888888888888888, \"#fdca26\"], [1.0, \"#f0f921\"]], \"sequentialminus\": [[0.0, \"#0d0887\"], [0.1111111111111111, \"#46039f\"], [0.2222222222222222, \"#7201a8\"], [0.3333333333333333, \"#9c179e\"], [0.4444444444444444, \"#bd3786\"], [0.5555555555555556, \"#d8576b\"], [0.6666666666666666, \"#ed7953\"], [0.7777777777777778, \"#fb9f3a\"], [0.8888888888888888, \"#fdca26\"], [1.0, \"#f0f921\"]]}, \"colorway\": [\"#636efa\", \"#EF553B\", \"#00cc96\", \"#ab63fa\", \"#FFA15A\", \"#19d3f3\", \"#FF6692\", \"#B6E880\", \"#FF97FF\", \"#FECB52\"], \"font\": {\"color\": \"#2a3f5f\"}, \"geo\": {\"bgcolor\": \"white\", \"lakecolor\": \"white\", \"landcolor\": \"#E5ECF6\", \"showlakes\": true, \"showland\": true, \"subunitcolor\": \"white\"}, \"hoverlabel\": {\"align\": \"left\"}, \"hovermode\": \"closest\", \"mapbox\": {\"style\": \"light\"}, \"paper_bgcolor\": \"white\", \"plot_bgcolor\": \"#E5ECF6\", \"polar\": {\"angularaxis\": {\"gridcolor\": \"white\", \"linecolor\": \"white\", \"ticks\": \"\"}, \"bgcolor\": \"#E5ECF6\", \"radialaxis\": {\"gridcolor\": \"white\", \"linecolor\": \"white\", \"ticks\": \"\"}}, \"scene\": {\"xaxis\": {\"backgroundcolor\": \"#E5ECF6\", \"gridcolor\": \"white\", \"gridwidth\": 2, \"linecolor\": \"white\", \"showbackground\": true, \"ticks\": \"\", \"zerolinecolor\": \"white\"}, \"yaxis\": {\"backgroundcolor\": \"#E5ECF6\", \"gridcolor\": \"white\", \"gridwidth\": 2, \"linecolor\": \"white\", \"showbackground\": true, \"ticks\": \"\", \"zerolinecolor\": \"white\"}, \"zaxis\": {\"backgroundcolor\": \"#E5ECF6\", \"gridcolor\": \"white\", \"gridwidth\": 2, \"linecolor\": \"white\", \"showbackground\": true, \"ticks\": \"\", \"zerolinecolor\": \"white\"}}, \"shapedefaults\": {\"line\": {\"color\": \"#2a3f5f\"}}, \"ternary\": {\"aaxis\": {\"gridcolor\": \"white\", \"linecolor\": \"white\", \"ticks\": \"\"}, \"baxis\": {\"gridcolor\": \"white\", \"linecolor\": \"white\", \"ticks\": \"\"}, \"bgcolor\": \"#E5ECF6\", \"caxis\": {\"gridcolor\": \"white\", \"linecolor\": \"white\", \"ticks\": \"\"}}, \"title\": {\"x\": 0.05}, \"xaxis\": {\"automargin\": true, \"gridcolor\": \"white\", \"linecolor\": \"white\", \"ticks\": \"\", \"title\": {\"standoff\": 15}, \"zerolinecolor\": \"white\", \"zerolinewidth\": 2}, \"yaxis\": {\"automargin\": true, \"gridcolor\": \"white\", \"linecolor\": \"white\", \"ticks\": \"\", \"title\": {\"standoff\": 15}, \"zerolinecolor\": \"white\", \"zerolinewidth\": 2}}}, \"title\": {\"text\": \"Bigrams- Aimovig Replies\"}, \"xaxis\": {\"anchor\": \"y\", \"domain\": [0.0, 1.0], \"title\": {\"text\": \"x\"}}, \"yaxis\": {\"anchor\": \"x\", \"domain\": [0.0, 1.0], \"title\": {\"text\": \"Words\"}}},\n",
              "                        {\"responsive\": true}\n",
              "                    ).then(function(){\n",
              "                            \n",
              "var gd = document.getElementById('f1df731e-c170-4f0d-8ebe-c3edbcf6fddc');\n",
              "var x = new MutationObserver(function (mutations, observer) {{\n",
              "        var display = window.getComputedStyle(gd).display;\n",
              "        if (!display || display === 'none') {{\n",
              "            console.log([gd, 'removed!']);\n",
              "            Plotly.purge(gd);\n",
              "            observer.disconnect();\n",
              "        }}\n",
              "}});\n",
              "\n",
              "// Listen for the removal of the full notebook cells\n",
              "var notebookContainer = gd.closest('#notebook-container');\n",
              "if (notebookContainer) {{\n",
              "    x.observe(notebookContainer, {childList: true});\n",
              "}}\n",
              "\n",
              "// Listen for the clearing of the current output cell\n",
              "var outputEl = gd.closest('.output');\n",
              "if (outputEl) {{\n",
              "    x.observe(outputEl, {childList: true});\n",
              "}}\n",
              "\n",
              "                        })\n",
              "                };\n",
              "                \n",
              "            </script>\n",
              "        </div>\n",
              "</body>\n",
              "</html>"
            ]
          },
          "metadata": {
            "tags": []
          }
        }
      ]
    },
    {
      "cell_type": "markdown",
      "metadata": {
        "id": "xzOqDmteufW7"
      },
      "source": [
        "#### Emgality Post and Replies Bigrams"
      ]
    },
    {
      "cell_type": "code",
      "metadata": {
        "colab": {
          "base_uri": "https://localhost:8080/",
          "height": 542
        },
        "id": "wWSUhXE2utBW",
        "outputId": "b46c04bf-8cba-43c9-9310-8313e3eccaf6"
      },
      "source": [
        "# convert selected bigrams into dataframes\n",
        "emgality_post = pd.Series(dict(post_freq_dist['emgality'])).to_frame()\n",
        "emgality_post.columns = ['Words']\n",
        "px.bar(emgality_post, x=emgality_post.index, y='Words',color='Words',title=\"Bigrams- Emgality Post\").show()"
      ],
      "execution_count": null,
      "outputs": [
        {
          "output_type": "display_data",
          "data": {
            "text/html": [
              "<html>\n",
              "<head><meta charset=\"utf-8\" /></head>\n",
              "<body>\n",
              "    <div>\n",
              "            <script src=\"https://cdnjs.cloudflare.com/ajax/libs/mathjax/2.7.5/MathJax.js?config=TeX-AMS-MML_SVG\"></script><script type=\"text/javascript\">if (window.MathJax) {MathJax.Hub.Config({SVG: {font: \"STIX-Web\"}});}</script>\n",
              "                <script type=\"text/javascript\">window.PlotlyConfig = {MathJaxConfig: 'local'};</script>\n",
              "        <script src=\"https://cdn.plot.ly/plotly-latest.min.js\"></script>    \n",
              "            <div id=\"85f36d57-930d-4138-b819-adf10f0a6823\" class=\"plotly-graph-div\" style=\"height:525px; width:100%;\"></div>\n",
              "            <script type=\"text/javascript\">\n",
              "                \n",
              "                    window.PLOTLYENV=window.PLOTLYENV || {};\n",
              "                    \n",
              "                if (document.getElementById(\"85f36d57-930d-4138-b819-adf10f0a6823\")) {\n",
              "                    Plotly.newPlot(\n",
              "                        '85f36d57-930d-4138-b819-adf10f0a6823',\n",
              "                        [{\"alignmentgroup\": \"True\", \"hoverlabel\": {\"namelength\": 0}, \"hovertemplate\": \"x=%{x}<br>Words=%{marker.color}\", \"legendgroup\": \"\", \"marker\": {\"color\": [1, 1, 1, 1, 3, 1, 1, 1, 1, 1, 1, 1, 1, 1, 1, 1, 1, 1, 1, 1, 1], \"coloraxis\": \"coloraxis\"}, \"name\": \"\", \"offsetgroup\": \"\", \"orientation\": \"v\", \"showlegend\": false, \"textposition\": \"auto\", \"type\": \"bar\", \"x\": [\"monthly\", \"hurts\", \"helping\", \"worked\", \"ajovy\", \"fit\", \"hurt\", \"period\", \"ubrelvy\", \"reyvow\", \"live\", \"approved\", \"paperwork\", \"since\", \"newly\", \"told\", \"heres\", \"see\", \"little\", \"free\", \"december\"], \"xaxis\": \"x\", \"y\": [1, 1, 1, 1, 3, 1, 1, 1, 1, 1, 1, 1, 1, 1, 1, 1, 1, 1, 1, 1, 1], \"yaxis\": \"y\"}],\n",
              "                        {\"barmode\": \"relative\", \"coloraxis\": {\"colorbar\": {\"title\": {\"text\": \"Words\"}}, \"colorscale\": [[0.0, \"#0d0887\"], [0.1111111111111111, \"#46039f\"], [0.2222222222222222, \"#7201a8\"], [0.3333333333333333, \"#9c179e\"], [0.4444444444444444, \"#bd3786\"], [0.5555555555555556, \"#d8576b\"], [0.6666666666666666, \"#ed7953\"], [0.7777777777777778, \"#fb9f3a\"], [0.8888888888888888, \"#fdca26\"], [1.0, \"#f0f921\"]]}, \"legend\": {\"tracegroupgap\": 0}, \"template\": {\"data\": {\"bar\": [{\"error_x\": {\"color\": \"#2a3f5f\"}, \"error_y\": {\"color\": \"#2a3f5f\"}, \"marker\": {\"line\": {\"color\": \"#E5ECF6\", \"width\": 0.5}}, \"type\": \"bar\"}], \"barpolar\": [{\"marker\": {\"line\": {\"color\": \"#E5ECF6\", \"width\": 0.5}}, \"type\": \"barpolar\"}], \"carpet\": [{\"aaxis\": {\"endlinecolor\": \"#2a3f5f\", \"gridcolor\": \"white\", \"linecolor\": \"white\", \"minorgridcolor\": \"white\", \"startlinecolor\": \"#2a3f5f\"}, \"baxis\": {\"endlinecolor\": \"#2a3f5f\", \"gridcolor\": \"white\", \"linecolor\": \"white\", \"minorgridcolor\": \"white\", \"startlinecolor\": \"#2a3f5f\"}, \"type\": \"carpet\"}], \"choropleth\": [{\"colorbar\": {\"outlinewidth\": 0, \"ticks\": \"\"}, \"type\": \"choropleth\"}], \"contour\": [{\"colorbar\": {\"outlinewidth\": 0, \"ticks\": \"\"}, \"colorscale\": [[0.0, \"#0d0887\"], [0.1111111111111111, \"#46039f\"], [0.2222222222222222, \"#7201a8\"], [0.3333333333333333, \"#9c179e\"], [0.4444444444444444, \"#bd3786\"], [0.5555555555555556, \"#d8576b\"], [0.6666666666666666, \"#ed7953\"], [0.7777777777777778, \"#fb9f3a\"], [0.8888888888888888, \"#fdca26\"], [1.0, \"#f0f921\"]], \"type\": \"contour\"}], \"contourcarpet\": [{\"colorbar\": {\"outlinewidth\": 0, \"ticks\": \"\"}, \"type\": \"contourcarpet\"}], \"heatmap\": [{\"colorbar\": {\"outlinewidth\": 0, \"ticks\": \"\"}, \"colorscale\": [[0.0, \"#0d0887\"], [0.1111111111111111, \"#46039f\"], [0.2222222222222222, \"#7201a8\"], [0.3333333333333333, \"#9c179e\"], [0.4444444444444444, \"#bd3786\"], [0.5555555555555556, \"#d8576b\"], [0.6666666666666666, \"#ed7953\"], [0.7777777777777778, \"#fb9f3a\"], [0.8888888888888888, \"#fdca26\"], [1.0, \"#f0f921\"]], \"type\": \"heatmap\"}], \"heatmapgl\": [{\"colorbar\": {\"outlinewidth\": 0, \"ticks\": \"\"}, \"colorscale\": [[0.0, \"#0d0887\"], [0.1111111111111111, \"#46039f\"], [0.2222222222222222, \"#7201a8\"], [0.3333333333333333, \"#9c179e\"], [0.4444444444444444, \"#bd3786\"], [0.5555555555555556, \"#d8576b\"], [0.6666666666666666, \"#ed7953\"], [0.7777777777777778, \"#fb9f3a\"], [0.8888888888888888, \"#fdca26\"], [1.0, \"#f0f921\"]], \"type\": \"heatmapgl\"}], \"histogram\": [{\"marker\": {\"colorbar\": {\"outlinewidth\": 0, \"ticks\": \"\"}}, \"type\": \"histogram\"}], \"histogram2d\": [{\"colorbar\": {\"outlinewidth\": 0, \"ticks\": \"\"}, \"colorscale\": [[0.0, \"#0d0887\"], [0.1111111111111111, \"#46039f\"], [0.2222222222222222, \"#7201a8\"], [0.3333333333333333, \"#9c179e\"], [0.4444444444444444, \"#bd3786\"], [0.5555555555555556, \"#d8576b\"], [0.6666666666666666, \"#ed7953\"], [0.7777777777777778, \"#fb9f3a\"], [0.8888888888888888, \"#fdca26\"], [1.0, \"#f0f921\"]], \"type\": \"histogram2d\"}], \"histogram2dcontour\": [{\"colorbar\": {\"outlinewidth\": 0, \"ticks\": \"\"}, \"colorscale\": [[0.0, \"#0d0887\"], [0.1111111111111111, \"#46039f\"], [0.2222222222222222, \"#7201a8\"], [0.3333333333333333, \"#9c179e\"], [0.4444444444444444, \"#bd3786\"], [0.5555555555555556, \"#d8576b\"], [0.6666666666666666, \"#ed7953\"], [0.7777777777777778, \"#fb9f3a\"], [0.8888888888888888, \"#fdca26\"], [1.0, \"#f0f921\"]], \"type\": \"histogram2dcontour\"}], \"mesh3d\": [{\"colorbar\": {\"outlinewidth\": 0, \"ticks\": \"\"}, \"type\": \"mesh3d\"}], \"parcoords\": [{\"line\": {\"colorbar\": {\"outlinewidth\": 0, \"ticks\": \"\"}}, \"type\": \"parcoords\"}], \"pie\": [{\"automargin\": true, \"type\": \"pie\"}], \"scatter\": [{\"marker\": {\"colorbar\": {\"outlinewidth\": 0, \"ticks\": \"\"}}, \"type\": \"scatter\"}], \"scatter3d\": [{\"line\": {\"colorbar\": {\"outlinewidth\": 0, \"ticks\": \"\"}}, \"marker\": {\"colorbar\": {\"outlinewidth\": 0, \"ticks\": \"\"}}, \"type\": \"scatter3d\"}], \"scattercarpet\": [{\"marker\": {\"colorbar\": {\"outlinewidth\": 0, \"ticks\": \"\"}}, \"type\": \"scattercarpet\"}], \"scattergeo\": [{\"marker\": {\"colorbar\": {\"outlinewidth\": 0, \"ticks\": \"\"}}, \"type\": \"scattergeo\"}], \"scattergl\": [{\"marker\": {\"colorbar\": {\"outlinewidth\": 0, \"ticks\": \"\"}}, \"type\": \"scattergl\"}], \"scattermapbox\": [{\"marker\": {\"colorbar\": {\"outlinewidth\": 0, \"ticks\": \"\"}}, \"type\": \"scattermapbox\"}], \"scatterpolar\": [{\"marker\": {\"colorbar\": {\"outlinewidth\": 0, \"ticks\": \"\"}}, \"type\": \"scatterpolar\"}], \"scatterpolargl\": [{\"marker\": {\"colorbar\": {\"outlinewidth\": 0, \"ticks\": \"\"}}, \"type\": \"scatterpolargl\"}], \"scatterternary\": [{\"marker\": {\"colorbar\": {\"outlinewidth\": 0, \"ticks\": \"\"}}, \"type\": \"scatterternary\"}], \"surface\": [{\"colorbar\": {\"outlinewidth\": 0, \"ticks\": \"\"}, \"colorscale\": [[0.0, \"#0d0887\"], [0.1111111111111111, \"#46039f\"], [0.2222222222222222, \"#7201a8\"], [0.3333333333333333, \"#9c179e\"], [0.4444444444444444, \"#bd3786\"], [0.5555555555555556, \"#d8576b\"], [0.6666666666666666, \"#ed7953\"], [0.7777777777777778, \"#fb9f3a\"], [0.8888888888888888, \"#fdca26\"], [1.0, \"#f0f921\"]], \"type\": \"surface\"}], \"table\": [{\"cells\": {\"fill\": {\"color\": \"#EBF0F8\"}, \"line\": {\"color\": \"white\"}}, \"header\": {\"fill\": {\"color\": \"#C8D4E3\"}, \"line\": {\"color\": \"white\"}}, \"type\": \"table\"}]}, \"layout\": {\"annotationdefaults\": {\"arrowcolor\": \"#2a3f5f\", \"arrowhead\": 0, \"arrowwidth\": 1}, \"coloraxis\": {\"colorbar\": {\"outlinewidth\": 0, \"ticks\": \"\"}}, \"colorscale\": {\"diverging\": [[0, \"#8e0152\"], [0.1, \"#c51b7d\"], [0.2, \"#de77ae\"], [0.3, \"#f1b6da\"], [0.4, \"#fde0ef\"], [0.5, \"#f7f7f7\"], [0.6, \"#e6f5d0\"], [0.7, \"#b8e186\"], [0.8, \"#7fbc41\"], [0.9, \"#4d9221\"], [1, \"#276419\"]], \"sequential\": [[0.0, \"#0d0887\"], [0.1111111111111111, \"#46039f\"], [0.2222222222222222, \"#7201a8\"], [0.3333333333333333, \"#9c179e\"], [0.4444444444444444, \"#bd3786\"], [0.5555555555555556, \"#d8576b\"], [0.6666666666666666, \"#ed7953\"], [0.7777777777777778, \"#fb9f3a\"], [0.8888888888888888, \"#fdca26\"], [1.0, \"#f0f921\"]], \"sequentialminus\": [[0.0, \"#0d0887\"], [0.1111111111111111, \"#46039f\"], [0.2222222222222222, \"#7201a8\"], [0.3333333333333333, \"#9c179e\"], [0.4444444444444444, \"#bd3786\"], [0.5555555555555556, \"#d8576b\"], [0.6666666666666666, \"#ed7953\"], [0.7777777777777778, \"#fb9f3a\"], [0.8888888888888888, \"#fdca26\"], [1.0, \"#f0f921\"]]}, \"colorway\": [\"#636efa\", \"#EF553B\", \"#00cc96\", \"#ab63fa\", \"#FFA15A\", \"#19d3f3\", \"#FF6692\", \"#B6E880\", \"#FF97FF\", \"#FECB52\"], \"font\": {\"color\": \"#2a3f5f\"}, \"geo\": {\"bgcolor\": \"white\", \"lakecolor\": \"white\", \"landcolor\": \"#E5ECF6\", \"showlakes\": true, \"showland\": true, \"subunitcolor\": \"white\"}, \"hoverlabel\": {\"align\": \"left\"}, \"hovermode\": \"closest\", \"mapbox\": {\"style\": \"light\"}, \"paper_bgcolor\": \"white\", \"plot_bgcolor\": \"#E5ECF6\", \"polar\": {\"angularaxis\": {\"gridcolor\": \"white\", \"linecolor\": \"white\", \"ticks\": \"\"}, \"bgcolor\": \"#E5ECF6\", \"radialaxis\": {\"gridcolor\": \"white\", \"linecolor\": \"white\", \"ticks\": \"\"}}, \"scene\": {\"xaxis\": {\"backgroundcolor\": \"#E5ECF6\", \"gridcolor\": \"white\", \"gridwidth\": 2, \"linecolor\": \"white\", \"showbackground\": true, \"ticks\": \"\", \"zerolinecolor\": \"white\"}, \"yaxis\": {\"backgroundcolor\": \"#E5ECF6\", \"gridcolor\": \"white\", \"gridwidth\": 2, \"linecolor\": \"white\", \"showbackground\": true, \"ticks\": \"\", \"zerolinecolor\": \"white\"}, \"zaxis\": {\"backgroundcolor\": \"#E5ECF6\", \"gridcolor\": \"white\", \"gridwidth\": 2, \"linecolor\": \"white\", \"showbackground\": true, \"ticks\": \"\", \"zerolinecolor\": \"white\"}}, \"shapedefaults\": {\"line\": {\"color\": \"#2a3f5f\"}}, \"ternary\": {\"aaxis\": {\"gridcolor\": \"white\", \"linecolor\": \"white\", \"ticks\": \"\"}, \"baxis\": {\"gridcolor\": \"white\", \"linecolor\": \"white\", \"ticks\": \"\"}, \"bgcolor\": \"#E5ECF6\", \"caxis\": {\"gridcolor\": \"white\", \"linecolor\": \"white\", \"ticks\": \"\"}}, \"title\": {\"x\": 0.05}, \"xaxis\": {\"automargin\": true, \"gridcolor\": \"white\", \"linecolor\": \"white\", \"ticks\": \"\", \"title\": {\"standoff\": 15}, \"zerolinecolor\": \"white\", \"zerolinewidth\": 2}, \"yaxis\": {\"automargin\": true, \"gridcolor\": \"white\", \"linecolor\": \"white\", \"ticks\": \"\", \"title\": {\"standoff\": 15}, \"zerolinecolor\": \"white\", \"zerolinewidth\": 2}}}, \"title\": {\"text\": \"Bigrams- Emgality Post\"}, \"xaxis\": {\"anchor\": \"y\", \"domain\": [0.0, 1.0], \"title\": {\"text\": \"x\"}}, \"yaxis\": {\"anchor\": \"x\", \"domain\": [0.0, 1.0], \"title\": {\"text\": \"Words\"}}},\n",
              "                        {\"responsive\": true}\n",
              "                    ).then(function(){\n",
              "                            \n",
              "var gd = document.getElementById('85f36d57-930d-4138-b819-adf10f0a6823');\n",
              "var x = new MutationObserver(function (mutations, observer) {{\n",
              "        var display = window.getComputedStyle(gd).display;\n",
              "        if (!display || display === 'none') {{\n",
              "            console.log([gd, 'removed!']);\n",
              "            Plotly.purge(gd);\n",
              "            observer.disconnect();\n",
              "        }}\n",
              "}});\n",
              "\n",
              "// Listen for the removal of the full notebook cells\n",
              "var notebookContainer = gd.closest('#notebook-container');\n",
              "if (notebookContainer) {{\n",
              "    x.observe(notebookContainer, {childList: true});\n",
              "}}\n",
              "\n",
              "// Listen for the clearing of the current output cell\n",
              "var outputEl = gd.closest('.output');\n",
              "if (outputEl) {{\n",
              "    x.observe(outputEl, {childList: true});\n",
              "}}\n",
              "\n",
              "                        })\n",
              "                };\n",
              "                \n",
              "            </script>\n",
              "        </div>\n",
              "</body>\n",
              "</html>"
            ]
          },
          "metadata": {
            "tags": []
          }
        }
      ]
    },
    {
      "cell_type": "code",
      "metadata": {
        "colab": {
          "base_uri": "https://localhost:8080/",
          "height": 542
        },
        "id": "mem9bo5pu8VM",
        "outputId": "a022fd06-72f7-4035-bd9a-a942e63bf948"
      },
      "source": [
        "# convert selected bigrams into dataframes\n",
        "emgality_replies = pd.Series(dict(replies_freq_dist['emgality'])).to_frame()\n",
        "emgality_replies.columns = ['Words']\n",
        "px.bar(emgality_replies, x=emgality_replies.index, y='Words',color='Words',title=\"Bigrams- Emgality Replies\").show()"
      ],
      "execution_count": null,
      "outputs": [
        {
          "output_type": "display_data",
          "data": {
            "text/html": [
              "<html>\n",
              "<head><meta charset=\"utf-8\" /></head>\n",
              "<body>\n",
              "    <div>\n",
              "            <script src=\"https://cdnjs.cloudflare.com/ajax/libs/mathjax/2.7.5/MathJax.js?config=TeX-AMS-MML_SVG\"></script><script type=\"text/javascript\">if (window.MathJax) {MathJax.Hub.Config({SVG: {font: \"STIX-Web\"}});}</script>\n",
              "                <script type=\"text/javascript\">window.PlotlyConfig = {MathJaxConfig: 'local'};</script>\n",
              "        <script src=\"https://cdn.plot.ly/plotly-latest.min.js\"></script>    \n",
              "            <div id=\"55fc5f21-bca2-4fec-8ee7-e1bc36b18500\" class=\"plotly-graph-div\" style=\"height:525px; width:100%;\"></div>\n",
              "            <script type=\"text/javascript\">\n",
              "                \n",
              "                    window.PLOTLYENV=window.PLOTLYENV || {};\n",
              "                    \n",
              "                if (document.getElementById(\"55fc5f21-bca2-4fec-8ee7-e1bc36b18500\")) {\n",
              "                    Plotly.newPlot(\n",
              "                        '55fc5f21-bca2-4fec-8ee7-e1bc36b18500',\n",
              "                        [{\"alignmentgroup\": \"True\", \"hoverlabel\": {\"namelength\": 0}, \"hovertemplate\": \"x=%{x}<br>Words=%{marker.color}\", \"legendgroup\": \"\", \"marker\": {\"color\": [1, 1, 1, 1, 1, 1, 1, 1, 1, 1, 2, 1, 1, 1, 1, 1, 1, 1, 1, 2, 1, 1, 1, 1, 1, 1, 1, 1, 1, 1, 1, 1, 1, 1, 1, 1, 1, 1, 1, 1, 1, 1, 1, 1, 1, 1], \"coloraxis\": \"coloraxis\"}, \"name\": \"\", \"offsetgroup\": \"\", \"orientation\": \"v\", \"showlegend\": false, \"textposition\": \"auto\", \"type\": \"bar\", \"x\": [\"like\", \"team\", \"hurt\", \"month\", \"painful\", \"belly\", \"panic\", \"bad\", \"enough\", \"injection\", \"worked\", \"dose\", \"think\", \"hurts\", \"great\", \"since\", \"thing\", \"first\", \"shot\", \"loading\", \"far\", \"available\", \"neurologist\", \"made\", \"said\", \"luckily\", \"extremely\", \"literally\", \"already\", \"week\", \"good\", \"months\", \"afternoon\", \"kicks\", \"hoping\", \"within\", \"people\", \"works\", \"posted\", \"took\", \"autoinjectors\", \"commercial\", \"least\", \"aimovig\", \"started\", \"parallel\"], \"xaxis\": \"x\", \"y\": [1, 1, 1, 1, 1, 1, 1, 1, 1, 1, 2, 1, 1, 1, 1, 1, 1, 1, 1, 2, 1, 1, 1, 1, 1, 1, 1, 1, 1, 1, 1, 1, 1, 1, 1, 1, 1, 1, 1, 1, 1, 1, 1, 1, 1, 1], \"yaxis\": \"y\"}],\n",
              "                        {\"barmode\": \"relative\", \"coloraxis\": {\"colorbar\": {\"title\": {\"text\": \"Words\"}}, \"colorscale\": [[0.0, \"#0d0887\"], [0.1111111111111111, \"#46039f\"], [0.2222222222222222, \"#7201a8\"], [0.3333333333333333, \"#9c179e\"], [0.4444444444444444, \"#bd3786\"], [0.5555555555555556, \"#d8576b\"], [0.6666666666666666, \"#ed7953\"], [0.7777777777777778, \"#fb9f3a\"], [0.8888888888888888, \"#fdca26\"], [1.0, \"#f0f921\"]]}, \"legend\": {\"tracegroupgap\": 0}, \"template\": {\"data\": {\"bar\": [{\"error_x\": {\"color\": \"#2a3f5f\"}, \"error_y\": {\"color\": \"#2a3f5f\"}, \"marker\": {\"line\": {\"color\": \"#E5ECF6\", \"width\": 0.5}}, \"type\": \"bar\"}], \"barpolar\": [{\"marker\": {\"line\": {\"color\": \"#E5ECF6\", \"width\": 0.5}}, \"type\": \"barpolar\"}], \"carpet\": [{\"aaxis\": {\"endlinecolor\": \"#2a3f5f\", \"gridcolor\": \"white\", \"linecolor\": \"white\", \"minorgridcolor\": \"white\", \"startlinecolor\": \"#2a3f5f\"}, \"baxis\": {\"endlinecolor\": \"#2a3f5f\", \"gridcolor\": \"white\", \"linecolor\": \"white\", \"minorgridcolor\": \"white\", \"startlinecolor\": \"#2a3f5f\"}, \"type\": \"carpet\"}], \"choropleth\": [{\"colorbar\": {\"outlinewidth\": 0, \"ticks\": \"\"}, \"type\": \"choropleth\"}], \"contour\": [{\"colorbar\": {\"outlinewidth\": 0, \"ticks\": \"\"}, \"colorscale\": [[0.0, \"#0d0887\"], [0.1111111111111111, \"#46039f\"], [0.2222222222222222, \"#7201a8\"], [0.3333333333333333, \"#9c179e\"], [0.4444444444444444, \"#bd3786\"], [0.5555555555555556, \"#d8576b\"], [0.6666666666666666, \"#ed7953\"], [0.7777777777777778, \"#fb9f3a\"], [0.8888888888888888, \"#fdca26\"], [1.0, \"#f0f921\"]], \"type\": \"contour\"}], \"contourcarpet\": [{\"colorbar\": {\"outlinewidth\": 0, \"ticks\": \"\"}, \"type\": \"contourcarpet\"}], \"heatmap\": [{\"colorbar\": {\"outlinewidth\": 0, \"ticks\": \"\"}, \"colorscale\": [[0.0, \"#0d0887\"], [0.1111111111111111, \"#46039f\"], [0.2222222222222222, \"#7201a8\"], [0.3333333333333333, \"#9c179e\"], [0.4444444444444444, \"#bd3786\"], [0.5555555555555556, \"#d8576b\"], [0.6666666666666666, \"#ed7953\"], [0.7777777777777778, \"#fb9f3a\"], [0.8888888888888888, \"#fdca26\"], [1.0, \"#f0f921\"]], \"type\": \"heatmap\"}], \"heatmapgl\": [{\"colorbar\": {\"outlinewidth\": 0, \"ticks\": \"\"}, \"colorscale\": [[0.0, \"#0d0887\"], [0.1111111111111111, \"#46039f\"], [0.2222222222222222, \"#7201a8\"], [0.3333333333333333, \"#9c179e\"], [0.4444444444444444, \"#bd3786\"], [0.5555555555555556, \"#d8576b\"], [0.6666666666666666, \"#ed7953\"], [0.7777777777777778, \"#fb9f3a\"], [0.8888888888888888, \"#fdca26\"], [1.0, \"#f0f921\"]], \"type\": \"heatmapgl\"}], \"histogram\": [{\"marker\": {\"colorbar\": {\"outlinewidth\": 0, \"ticks\": \"\"}}, \"type\": \"histogram\"}], \"histogram2d\": [{\"colorbar\": {\"outlinewidth\": 0, \"ticks\": \"\"}, \"colorscale\": [[0.0, \"#0d0887\"], [0.1111111111111111, \"#46039f\"], [0.2222222222222222, \"#7201a8\"], [0.3333333333333333, \"#9c179e\"], [0.4444444444444444, \"#bd3786\"], [0.5555555555555556, \"#d8576b\"], [0.6666666666666666, \"#ed7953\"], [0.7777777777777778, \"#fb9f3a\"], [0.8888888888888888, \"#fdca26\"], [1.0, \"#f0f921\"]], \"type\": \"histogram2d\"}], \"histogram2dcontour\": [{\"colorbar\": {\"outlinewidth\": 0, \"ticks\": \"\"}, \"colorscale\": [[0.0, \"#0d0887\"], [0.1111111111111111, \"#46039f\"], [0.2222222222222222, \"#7201a8\"], [0.3333333333333333, \"#9c179e\"], [0.4444444444444444, \"#bd3786\"], [0.5555555555555556, \"#d8576b\"], [0.6666666666666666, \"#ed7953\"], [0.7777777777777778, \"#fb9f3a\"], [0.8888888888888888, \"#fdca26\"], [1.0, \"#f0f921\"]], \"type\": \"histogram2dcontour\"}], \"mesh3d\": [{\"colorbar\": {\"outlinewidth\": 0, \"ticks\": \"\"}, \"type\": \"mesh3d\"}], \"parcoords\": [{\"line\": {\"colorbar\": {\"outlinewidth\": 0, \"ticks\": \"\"}}, \"type\": \"parcoords\"}], \"pie\": [{\"automargin\": true, \"type\": \"pie\"}], \"scatter\": [{\"marker\": {\"colorbar\": {\"outlinewidth\": 0, \"ticks\": \"\"}}, \"type\": \"scatter\"}], \"scatter3d\": [{\"line\": {\"colorbar\": {\"outlinewidth\": 0, \"ticks\": \"\"}}, \"marker\": {\"colorbar\": {\"outlinewidth\": 0, \"ticks\": \"\"}}, \"type\": \"scatter3d\"}], \"scattercarpet\": [{\"marker\": {\"colorbar\": {\"outlinewidth\": 0, \"ticks\": \"\"}}, \"type\": \"scattercarpet\"}], \"scattergeo\": [{\"marker\": {\"colorbar\": {\"outlinewidth\": 0, \"ticks\": \"\"}}, \"type\": \"scattergeo\"}], \"scattergl\": [{\"marker\": {\"colorbar\": {\"outlinewidth\": 0, \"ticks\": \"\"}}, \"type\": \"scattergl\"}], \"scattermapbox\": [{\"marker\": {\"colorbar\": {\"outlinewidth\": 0, \"ticks\": \"\"}}, \"type\": \"scattermapbox\"}], \"scatterpolar\": [{\"marker\": {\"colorbar\": {\"outlinewidth\": 0, \"ticks\": \"\"}}, \"type\": \"scatterpolar\"}], \"scatterpolargl\": [{\"marker\": {\"colorbar\": {\"outlinewidth\": 0, \"ticks\": \"\"}}, \"type\": \"scatterpolargl\"}], \"scatterternary\": [{\"marker\": {\"colorbar\": {\"outlinewidth\": 0, \"ticks\": \"\"}}, \"type\": \"scatterternary\"}], \"surface\": [{\"colorbar\": {\"outlinewidth\": 0, \"ticks\": \"\"}, \"colorscale\": [[0.0, \"#0d0887\"], [0.1111111111111111, \"#46039f\"], [0.2222222222222222, \"#7201a8\"], [0.3333333333333333, \"#9c179e\"], [0.4444444444444444, \"#bd3786\"], [0.5555555555555556, \"#d8576b\"], [0.6666666666666666, \"#ed7953\"], [0.7777777777777778, \"#fb9f3a\"], [0.8888888888888888, \"#fdca26\"], [1.0, \"#f0f921\"]], \"type\": \"surface\"}], \"table\": [{\"cells\": {\"fill\": {\"color\": \"#EBF0F8\"}, \"line\": {\"color\": \"white\"}}, \"header\": {\"fill\": {\"color\": \"#C8D4E3\"}, \"line\": {\"color\": \"white\"}}, \"type\": \"table\"}]}, \"layout\": {\"annotationdefaults\": {\"arrowcolor\": \"#2a3f5f\", \"arrowhead\": 0, \"arrowwidth\": 1}, \"coloraxis\": {\"colorbar\": {\"outlinewidth\": 0, \"ticks\": \"\"}}, \"colorscale\": {\"diverging\": [[0, \"#8e0152\"], [0.1, \"#c51b7d\"], [0.2, \"#de77ae\"], [0.3, \"#f1b6da\"], [0.4, \"#fde0ef\"], [0.5, \"#f7f7f7\"], [0.6, \"#e6f5d0\"], [0.7, \"#b8e186\"], [0.8, \"#7fbc41\"], [0.9, \"#4d9221\"], [1, \"#276419\"]], \"sequential\": [[0.0, \"#0d0887\"], [0.1111111111111111, \"#46039f\"], [0.2222222222222222, \"#7201a8\"], [0.3333333333333333, \"#9c179e\"], [0.4444444444444444, \"#bd3786\"], [0.5555555555555556, \"#d8576b\"], [0.6666666666666666, \"#ed7953\"], [0.7777777777777778, \"#fb9f3a\"], [0.8888888888888888, \"#fdca26\"], [1.0, \"#f0f921\"]], \"sequentialminus\": [[0.0, \"#0d0887\"], [0.1111111111111111, \"#46039f\"], [0.2222222222222222, \"#7201a8\"], [0.3333333333333333, \"#9c179e\"], [0.4444444444444444, \"#bd3786\"], [0.5555555555555556, \"#d8576b\"], [0.6666666666666666, \"#ed7953\"], [0.7777777777777778, \"#fb9f3a\"], [0.8888888888888888, \"#fdca26\"], [1.0, \"#f0f921\"]]}, \"colorway\": [\"#636efa\", \"#EF553B\", \"#00cc96\", \"#ab63fa\", \"#FFA15A\", \"#19d3f3\", \"#FF6692\", \"#B6E880\", \"#FF97FF\", \"#FECB52\"], \"font\": {\"color\": \"#2a3f5f\"}, \"geo\": {\"bgcolor\": \"white\", \"lakecolor\": \"white\", \"landcolor\": \"#E5ECF6\", \"showlakes\": true, \"showland\": true, \"subunitcolor\": \"white\"}, \"hoverlabel\": {\"align\": \"left\"}, \"hovermode\": \"closest\", \"mapbox\": {\"style\": \"light\"}, \"paper_bgcolor\": \"white\", \"plot_bgcolor\": \"#E5ECF6\", \"polar\": {\"angularaxis\": {\"gridcolor\": \"white\", \"linecolor\": \"white\", \"ticks\": \"\"}, \"bgcolor\": \"#E5ECF6\", \"radialaxis\": {\"gridcolor\": \"white\", \"linecolor\": \"white\", \"ticks\": \"\"}}, \"scene\": {\"xaxis\": {\"backgroundcolor\": \"#E5ECF6\", \"gridcolor\": \"white\", \"gridwidth\": 2, \"linecolor\": \"white\", \"showbackground\": true, \"ticks\": \"\", \"zerolinecolor\": \"white\"}, \"yaxis\": {\"backgroundcolor\": \"#E5ECF6\", \"gridcolor\": \"white\", \"gridwidth\": 2, \"linecolor\": \"white\", \"showbackground\": true, \"ticks\": \"\", \"zerolinecolor\": \"white\"}, \"zaxis\": {\"backgroundcolor\": \"#E5ECF6\", \"gridcolor\": \"white\", \"gridwidth\": 2, \"linecolor\": \"white\", \"showbackground\": true, \"ticks\": \"\", \"zerolinecolor\": \"white\"}}, \"shapedefaults\": {\"line\": {\"color\": \"#2a3f5f\"}}, \"ternary\": {\"aaxis\": {\"gridcolor\": \"white\", \"linecolor\": \"white\", \"ticks\": \"\"}, \"baxis\": {\"gridcolor\": \"white\", \"linecolor\": \"white\", \"ticks\": \"\"}, \"bgcolor\": \"#E5ECF6\", \"caxis\": {\"gridcolor\": \"white\", \"linecolor\": \"white\", \"ticks\": \"\"}}, \"title\": {\"x\": 0.05}, \"xaxis\": {\"automargin\": true, \"gridcolor\": \"white\", \"linecolor\": \"white\", \"ticks\": \"\", \"title\": {\"standoff\": 15}, \"zerolinecolor\": \"white\", \"zerolinewidth\": 2}, \"yaxis\": {\"automargin\": true, \"gridcolor\": \"white\", \"linecolor\": \"white\", \"ticks\": \"\", \"title\": {\"standoff\": 15}, \"zerolinecolor\": \"white\", \"zerolinewidth\": 2}}}, \"title\": {\"text\": \"Bigrams- Emgality Replies\"}, \"xaxis\": {\"anchor\": \"y\", \"domain\": [0.0, 1.0], \"title\": {\"text\": \"x\"}}, \"yaxis\": {\"anchor\": \"x\", \"domain\": [0.0, 1.0], \"title\": {\"text\": \"Words\"}}},\n",
              "                        {\"responsive\": true}\n",
              "                    ).then(function(){\n",
              "                            \n",
              "var gd = document.getElementById('55fc5f21-bca2-4fec-8ee7-e1bc36b18500');\n",
              "var x = new MutationObserver(function (mutations, observer) {{\n",
              "        var display = window.getComputedStyle(gd).display;\n",
              "        if (!display || display === 'none') {{\n",
              "            console.log([gd, 'removed!']);\n",
              "            Plotly.purge(gd);\n",
              "            observer.disconnect();\n",
              "        }}\n",
              "}});\n",
              "\n",
              "// Listen for the removal of the full notebook cells\n",
              "var notebookContainer = gd.closest('#notebook-container');\n",
              "if (notebookContainer) {{\n",
              "    x.observe(notebookContainer, {childList: true});\n",
              "}}\n",
              "\n",
              "// Listen for the clearing of the current output cell\n",
              "var outputEl = gd.closest('.output');\n",
              "if (outputEl) {{\n",
              "    x.observe(outputEl, {childList: true});\n",
              "}}\n",
              "\n",
              "                        })\n",
              "                };\n",
              "                \n",
              "            </script>\n",
              "        </div>\n",
              "</body>\n",
              "</html>"
            ]
          },
          "metadata": {
            "tags": []
          }
        }
      ]
    },
    {
      "cell_type": "markdown",
      "metadata": {
        "id": "S1A3qtsYukas"
      },
      "source": [
        "#### Ajovy Post and Replies Bigrams"
      ]
    },
    {
      "cell_type": "code",
      "metadata": {
        "colab": {
          "base_uri": "https://localhost:8080/",
          "height": 542
        },
        "id": "PsO4lcSYv666",
        "outputId": "096664b0-7dff-45ff-f325-a33d846ec89b"
      },
      "source": [
        "# convert selected bigrams into dataframes\n",
        "ajovy_post = pd.Series(dict(post_freq_dist['ajovy'])).to_frame()\n",
        "ajovy_post.columns = ['Words']\n",
        "px.bar(ajovy_post, x=ajovy_post.index, y='Words',color='Words',title=\"Bigrams- Ajovy Post\").show()"
      ],
      "execution_count": null,
      "outputs": [
        {
          "output_type": "display_data",
          "data": {
            "text/html": [
              "<html>\n",
              "<head><meta charset=\"utf-8\" /></head>\n",
              "<body>\n",
              "    <div>\n",
              "            <script src=\"https://cdnjs.cloudflare.com/ajax/libs/mathjax/2.7.5/MathJax.js?config=TeX-AMS-MML_SVG\"></script><script type=\"text/javascript\">if (window.MathJax) {MathJax.Hub.Config({SVG: {font: \"STIX-Web\"}});}</script>\n",
              "                <script type=\"text/javascript\">window.PlotlyConfig = {MathJaxConfig: 'local'};</script>\n",
              "        <script src=\"https://cdn.plot.ly/plotly-latest.min.js\"></script>    \n",
              "            <div id=\"a988c0b5-6500-41fb-b258-930bff86d234\" class=\"plotly-graph-div\" style=\"height:525px; width:100%;\"></div>\n",
              "            <script type=\"text/javascript\">\n",
              "                \n",
              "                    window.PLOTLYENV=window.PLOTLYENV || {};\n",
              "                    \n",
              "                if (document.getElementById(\"a988c0b5-6500-41fb-b258-930bff86d234\")) {\n",
              "                    Plotly.newPlot(\n",
              "                        'a988c0b5-6500-41fb-b258-930bff86d234',\n",
              "                        [{\"alignmentgroup\": \"True\", \"hoverlabel\": {\"namelength\": 0}, \"hovertemplate\": \"x=%{x}<br>Words=%{marker.color}\", \"legendgroup\": \"\", \"marker\": {\"color\": [1, 1, 1, 1, 1, 1, 1, 1, 1, 1, 1, 1, 1, 1], \"coloraxis\": \"coloraxis\"}, \"name\": \"\", \"offsetgroup\": \"\", \"orientation\": \"v\", \"showlegend\": false, \"textposition\": \"auto\", \"type\": \"bar\", \"x\": [\"lifesaver\", \"order\", \"syringe\", \"different\", \"least\", \"dose\", \"also\", \"best\", \"designed\", \"lasting\", \"emgality\", \"888\", \"months\", \"started\"], \"xaxis\": \"x\", \"y\": [1, 1, 1, 1, 1, 1, 1, 1, 1, 1, 1, 1, 1, 1], \"yaxis\": \"y\"}],\n",
              "                        {\"barmode\": \"relative\", \"coloraxis\": {\"colorbar\": {\"title\": {\"text\": \"Words\"}}, \"colorscale\": [[0.0, \"#0d0887\"], [0.1111111111111111, \"#46039f\"], [0.2222222222222222, \"#7201a8\"], [0.3333333333333333, \"#9c179e\"], [0.4444444444444444, \"#bd3786\"], [0.5555555555555556, \"#d8576b\"], [0.6666666666666666, \"#ed7953\"], [0.7777777777777778, \"#fb9f3a\"], [0.8888888888888888, \"#fdca26\"], [1.0, \"#f0f921\"]]}, \"legend\": {\"tracegroupgap\": 0}, \"template\": {\"data\": {\"bar\": [{\"error_x\": {\"color\": \"#2a3f5f\"}, \"error_y\": {\"color\": \"#2a3f5f\"}, \"marker\": {\"line\": {\"color\": \"#E5ECF6\", \"width\": 0.5}}, \"type\": \"bar\"}], \"barpolar\": [{\"marker\": {\"line\": {\"color\": \"#E5ECF6\", \"width\": 0.5}}, \"type\": \"barpolar\"}], \"carpet\": [{\"aaxis\": {\"endlinecolor\": \"#2a3f5f\", \"gridcolor\": \"white\", \"linecolor\": \"white\", \"minorgridcolor\": \"white\", \"startlinecolor\": \"#2a3f5f\"}, \"baxis\": {\"endlinecolor\": \"#2a3f5f\", \"gridcolor\": \"white\", \"linecolor\": \"white\", \"minorgridcolor\": \"white\", \"startlinecolor\": \"#2a3f5f\"}, \"type\": \"carpet\"}], \"choropleth\": [{\"colorbar\": {\"outlinewidth\": 0, \"ticks\": \"\"}, \"type\": \"choropleth\"}], \"contour\": [{\"colorbar\": {\"outlinewidth\": 0, \"ticks\": \"\"}, \"colorscale\": [[0.0, \"#0d0887\"], [0.1111111111111111, \"#46039f\"], [0.2222222222222222, \"#7201a8\"], [0.3333333333333333, \"#9c179e\"], [0.4444444444444444, \"#bd3786\"], [0.5555555555555556, \"#d8576b\"], [0.6666666666666666, \"#ed7953\"], [0.7777777777777778, \"#fb9f3a\"], [0.8888888888888888, \"#fdca26\"], [1.0, \"#f0f921\"]], \"type\": \"contour\"}], \"contourcarpet\": [{\"colorbar\": {\"outlinewidth\": 0, \"ticks\": \"\"}, \"type\": \"contourcarpet\"}], \"heatmap\": [{\"colorbar\": {\"outlinewidth\": 0, \"ticks\": \"\"}, \"colorscale\": [[0.0, \"#0d0887\"], [0.1111111111111111, \"#46039f\"], [0.2222222222222222, \"#7201a8\"], [0.3333333333333333, \"#9c179e\"], [0.4444444444444444, \"#bd3786\"], [0.5555555555555556, \"#d8576b\"], [0.6666666666666666, \"#ed7953\"], [0.7777777777777778, \"#fb9f3a\"], [0.8888888888888888, \"#fdca26\"], [1.0, \"#f0f921\"]], \"type\": \"heatmap\"}], \"heatmapgl\": [{\"colorbar\": {\"outlinewidth\": 0, \"ticks\": \"\"}, \"colorscale\": [[0.0, \"#0d0887\"], [0.1111111111111111, \"#46039f\"], [0.2222222222222222, \"#7201a8\"], [0.3333333333333333, \"#9c179e\"], [0.4444444444444444, \"#bd3786\"], [0.5555555555555556, \"#d8576b\"], [0.6666666666666666, \"#ed7953\"], [0.7777777777777778, \"#fb9f3a\"], [0.8888888888888888, \"#fdca26\"], [1.0, \"#f0f921\"]], \"type\": \"heatmapgl\"}], \"histogram\": [{\"marker\": {\"colorbar\": {\"outlinewidth\": 0, \"ticks\": \"\"}}, \"type\": \"histogram\"}], \"histogram2d\": [{\"colorbar\": {\"outlinewidth\": 0, \"ticks\": \"\"}, \"colorscale\": [[0.0, \"#0d0887\"], [0.1111111111111111, \"#46039f\"], [0.2222222222222222, \"#7201a8\"], [0.3333333333333333, \"#9c179e\"], [0.4444444444444444, \"#bd3786\"], [0.5555555555555556, \"#d8576b\"], [0.6666666666666666, \"#ed7953\"], [0.7777777777777778, \"#fb9f3a\"], [0.8888888888888888, \"#fdca26\"], [1.0, \"#f0f921\"]], \"type\": \"histogram2d\"}], \"histogram2dcontour\": [{\"colorbar\": {\"outlinewidth\": 0, \"ticks\": \"\"}, \"colorscale\": [[0.0, \"#0d0887\"], [0.1111111111111111, \"#46039f\"], [0.2222222222222222, \"#7201a8\"], [0.3333333333333333, \"#9c179e\"], [0.4444444444444444, \"#bd3786\"], [0.5555555555555556, \"#d8576b\"], [0.6666666666666666, \"#ed7953\"], [0.7777777777777778, \"#fb9f3a\"], [0.8888888888888888, \"#fdca26\"], [1.0, \"#f0f921\"]], \"type\": \"histogram2dcontour\"}], \"mesh3d\": [{\"colorbar\": {\"outlinewidth\": 0, \"ticks\": \"\"}, \"type\": \"mesh3d\"}], \"parcoords\": [{\"line\": {\"colorbar\": {\"outlinewidth\": 0, \"ticks\": \"\"}}, \"type\": \"parcoords\"}], \"pie\": [{\"automargin\": true, \"type\": \"pie\"}], \"scatter\": [{\"marker\": {\"colorbar\": {\"outlinewidth\": 0, \"ticks\": \"\"}}, \"type\": \"scatter\"}], \"scatter3d\": [{\"line\": {\"colorbar\": {\"outlinewidth\": 0, \"ticks\": \"\"}}, \"marker\": {\"colorbar\": {\"outlinewidth\": 0, \"ticks\": \"\"}}, \"type\": \"scatter3d\"}], \"scattercarpet\": [{\"marker\": {\"colorbar\": {\"outlinewidth\": 0, \"ticks\": \"\"}}, \"type\": \"scattercarpet\"}], \"scattergeo\": [{\"marker\": {\"colorbar\": {\"outlinewidth\": 0, \"ticks\": \"\"}}, \"type\": \"scattergeo\"}], \"scattergl\": [{\"marker\": {\"colorbar\": {\"outlinewidth\": 0, \"ticks\": \"\"}}, \"type\": \"scattergl\"}], \"scattermapbox\": [{\"marker\": {\"colorbar\": {\"outlinewidth\": 0, \"ticks\": \"\"}}, \"type\": \"scattermapbox\"}], \"scatterpolar\": [{\"marker\": {\"colorbar\": {\"outlinewidth\": 0, \"ticks\": \"\"}}, \"type\": \"scatterpolar\"}], \"scatterpolargl\": [{\"marker\": {\"colorbar\": {\"outlinewidth\": 0, \"ticks\": \"\"}}, \"type\": \"scatterpolargl\"}], \"scatterternary\": [{\"marker\": {\"colorbar\": {\"outlinewidth\": 0, \"ticks\": \"\"}}, \"type\": \"scatterternary\"}], \"surface\": [{\"colorbar\": {\"outlinewidth\": 0, \"ticks\": \"\"}, \"colorscale\": [[0.0, \"#0d0887\"], [0.1111111111111111, \"#46039f\"], [0.2222222222222222, \"#7201a8\"], [0.3333333333333333, \"#9c179e\"], [0.4444444444444444, \"#bd3786\"], [0.5555555555555556, \"#d8576b\"], [0.6666666666666666, \"#ed7953\"], [0.7777777777777778, \"#fb9f3a\"], [0.8888888888888888, \"#fdca26\"], [1.0, \"#f0f921\"]], \"type\": \"surface\"}], \"table\": [{\"cells\": {\"fill\": {\"color\": \"#EBF0F8\"}, \"line\": {\"color\": \"white\"}}, \"header\": {\"fill\": {\"color\": \"#C8D4E3\"}, \"line\": {\"color\": \"white\"}}, \"type\": \"table\"}]}, \"layout\": {\"annotationdefaults\": {\"arrowcolor\": \"#2a3f5f\", \"arrowhead\": 0, \"arrowwidth\": 1}, \"coloraxis\": {\"colorbar\": {\"outlinewidth\": 0, \"ticks\": \"\"}}, \"colorscale\": {\"diverging\": [[0, \"#8e0152\"], [0.1, \"#c51b7d\"], [0.2, \"#de77ae\"], [0.3, \"#f1b6da\"], [0.4, \"#fde0ef\"], [0.5, \"#f7f7f7\"], [0.6, \"#e6f5d0\"], [0.7, \"#b8e186\"], [0.8, \"#7fbc41\"], [0.9, \"#4d9221\"], [1, \"#276419\"]], \"sequential\": [[0.0, \"#0d0887\"], [0.1111111111111111, \"#46039f\"], [0.2222222222222222, \"#7201a8\"], [0.3333333333333333, \"#9c179e\"], [0.4444444444444444, \"#bd3786\"], [0.5555555555555556, \"#d8576b\"], [0.6666666666666666, \"#ed7953\"], [0.7777777777777778, \"#fb9f3a\"], [0.8888888888888888, \"#fdca26\"], [1.0, \"#f0f921\"]], \"sequentialminus\": [[0.0, \"#0d0887\"], [0.1111111111111111, \"#46039f\"], [0.2222222222222222, \"#7201a8\"], [0.3333333333333333, \"#9c179e\"], [0.4444444444444444, \"#bd3786\"], [0.5555555555555556, \"#d8576b\"], [0.6666666666666666, \"#ed7953\"], [0.7777777777777778, \"#fb9f3a\"], [0.8888888888888888, \"#fdca26\"], [1.0, \"#f0f921\"]]}, \"colorway\": [\"#636efa\", \"#EF553B\", \"#00cc96\", \"#ab63fa\", \"#FFA15A\", \"#19d3f3\", \"#FF6692\", \"#B6E880\", \"#FF97FF\", \"#FECB52\"], \"font\": {\"color\": \"#2a3f5f\"}, \"geo\": {\"bgcolor\": \"white\", \"lakecolor\": \"white\", \"landcolor\": \"#E5ECF6\", \"showlakes\": true, \"showland\": true, \"subunitcolor\": \"white\"}, \"hoverlabel\": {\"align\": \"left\"}, \"hovermode\": \"closest\", \"mapbox\": {\"style\": \"light\"}, \"paper_bgcolor\": \"white\", \"plot_bgcolor\": \"#E5ECF6\", \"polar\": {\"angularaxis\": {\"gridcolor\": \"white\", \"linecolor\": \"white\", \"ticks\": \"\"}, \"bgcolor\": \"#E5ECF6\", \"radialaxis\": {\"gridcolor\": \"white\", \"linecolor\": \"white\", \"ticks\": \"\"}}, \"scene\": {\"xaxis\": {\"backgroundcolor\": \"#E5ECF6\", \"gridcolor\": \"white\", \"gridwidth\": 2, \"linecolor\": \"white\", \"showbackground\": true, \"ticks\": \"\", \"zerolinecolor\": \"white\"}, \"yaxis\": {\"backgroundcolor\": \"#E5ECF6\", \"gridcolor\": \"white\", \"gridwidth\": 2, \"linecolor\": \"white\", \"showbackground\": true, \"ticks\": \"\", \"zerolinecolor\": \"white\"}, \"zaxis\": {\"backgroundcolor\": \"#E5ECF6\", \"gridcolor\": \"white\", \"gridwidth\": 2, \"linecolor\": \"white\", \"showbackground\": true, \"ticks\": \"\", \"zerolinecolor\": \"white\"}}, \"shapedefaults\": {\"line\": {\"color\": \"#2a3f5f\"}}, \"ternary\": {\"aaxis\": {\"gridcolor\": \"white\", \"linecolor\": \"white\", \"ticks\": \"\"}, \"baxis\": {\"gridcolor\": \"white\", \"linecolor\": \"white\", \"ticks\": \"\"}, \"bgcolor\": \"#E5ECF6\", \"caxis\": {\"gridcolor\": \"white\", \"linecolor\": \"white\", \"ticks\": \"\"}}, \"title\": {\"x\": 0.05}, \"xaxis\": {\"automargin\": true, \"gridcolor\": \"white\", \"linecolor\": \"white\", \"ticks\": \"\", \"title\": {\"standoff\": 15}, \"zerolinecolor\": \"white\", \"zerolinewidth\": 2}, \"yaxis\": {\"automargin\": true, \"gridcolor\": \"white\", \"linecolor\": \"white\", \"ticks\": \"\", \"title\": {\"standoff\": 15}, \"zerolinecolor\": \"white\", \"zerolinewidth\": 2}}}, \"title\": {\"text\": \"Bigrams- Ajovy Post\"}, \"xaxis\": {\"anchor\": \"y\", \"domain\": [0.0, 1.0], \"title\": {\"text\": \"x\"}}, \"yaxis\": {\"anchor\": \"x\", \"domain\": [0.0, 1.0], \"title\": {\"text\": \"Words\"}}},\n",
              "                        {\"responsive\": true}\n",
              "                    ).then(function(){\n",
              "                            \n",
              "var gd = document.getElementById('a988c0b5-6500-41fb-b258-930bff86d234');\n",
              "var x = new MutationObserver(function (mutations, observer) {{\n",
              "        var display = window.getComputedStyle(gd).display;\n",
              "        if (!display || display === 'none') {{\n",
              "            console.log([gd, 'removed!']);\n",
              "            Plotly.purge(gd);\n",
              "            observer.disconnect();\n",
              "        }}\n",
              "}});\n",
              "\n",
              "// Listen for the removal of the full notebook cells\n",
              "var notebookContainer = gd.closest('#notebook-container');\n",
              "if (notebookContainer) {{\n",
              "    x.observe(notebookContainer, {childList: true});\n",
              "}}\n",
              "\n",
              "// Listen for the clearing of the current output cell\n",
              "var outputEl = gd.closest('.output');\n",
              "if (outputEl) {{\n",
              "    x.observe(outputEl, {childList: true});\n",
              "}}\n",
              "\n",
              "                        })\n",
              "                };\n",
              "                \n",
              "            </script>\n",
              "        </div>\n",
              "</body>\n",
              "</html>"
            ]
          },
          "metadata": {
            "tags": []
          }
        }
      ]
    },
    {
      "cell_type": "code",
      "metadata": {
        "colab": {
          "base_uri": "https://localhost:8080/",
          "height": 542
        },
        "id": "oCgpREF2wOXr",
        "outputId": "75a963e8-5046-48f6-a714-43843d86609a"
      },
      "source": [
        "# convert selected bigrams into dataframes\n",
        "ajovy_replies = pd.Series(dict(replies_freq_dist['ajovy'])).to_frame()\n",
        "ajovy_replies.columns = ['Words']\n",
        "fig = px.bar(ajovy_replies, x=ajovy_replies.index, y='Words',color='Words',title=\"Bigrams- Ajovy Replies\")\n",
        "fig.show()"
      ],
      "execution_count": null,
      "outputs": [
        {
          "output_type": "display_data",
          "data": {
            "text/html": [
              "<html>\n",
              "<head><meta charset=\"utf-8\" /></head>\n",
              "<body>\n",
              "    <div>\n",
              "            <script src=\"https://cdnjs.cloudflare.com/ajax/libs/mathjax/2.7.5/MathJax.js?config=TeX-AMS-MML_SVG\"></script><script type=\"text/javascript\">if (window.MathJax) {MathJax.Hub.Config({SVG: {font: \"STIX-Web\"}});}</script>\n",
              "                <script type=\"text/javascript\">window.PlotlyConfig = {MathJaxConfig: 'local'};</script>\n",
              "        <script src=\"https://cdn.plot.ly/plotly-latest.min.js\"></script>    \n",
              "            <div id=\"93a639ad-6ed8-47ba-ad0a-23ce0f524ec1\" class=\"plotly-graph-div\" style=\"height:525px; width:100%;\"></div>\n",
              "            <script type=\"text/javascript\">\n",
              "                \n",
              "                    window.PLOTLYENV=window.PLOTLYENV || {};\n",
              "                    \n",
              "                if (document.getElementById(\"93a639ad-6ed8-47ba-ad0a-23ce0f524ec1\")) {\n",
              "                    Plotly.newPlot(\n",
              "                        '93a639ad-6ed8-47ba-ad0a-23ce0f524ec1',\n",
              "                        [{\"alignmentgroup\": \"True\", \"hoverlabel\": {\"namelength\": 0}, \"hovertemplate\": \"x=%{x}<br>Words=%{marker.color}\", \"legendgroup\": \"\", \"marker\": {\"color\": [1, 2, 1, 1, 1, 1, 1, 1, 1, 1, 1, 1, 1, 1, 1, 1, 1, 1, 1, 1, 1, 1, 1, 1, 1, 1, 1, 1, 1, 1], \"coloraxis\": \"coloraxis\"}, \"name\": \"\", \"offsetgroup\": \"\", \"orientation\": \"v\", \"showlegend\": false, \"textposition\": \"auto\", \"type\": \"bar\", \"x\": [\"still\", \"emgality\", \"would\", \"year\", \"aimovig\", \"botox\", \"works\", \"godsend\", \"hoping\", \"much\", \"avoid\", \"migrainedopamax\", \"well\", \"polished\", \"improved\", \"one\", \"system\", \"noticed\", \"working\", \"seem\", \"yup\", \"like\", \"dice\", \"sixth\", \"notice\", \"migraines\", \"mostly\", \"fourth\", \"opposite\", \"nothing\"], \"xaxis\": \"x\", \"y\": [1, 2, 1, 1, 1, 1, 1, 1, 1, 1, 1, 1, 1, 1, 1, 1, 1, 1, 1, 1, 1, 1, 1, 1, 1, 1, 1, 1, 1, 1], \"yaxis\": \"y\"}],\n",
              "                        {\"barmode\": \"relative\", \"coloraxis\": {\"colorbar\": {\"title\": {\"text\": \"Words\"}}, \"colorscale\": [[0.0, \"#0d0887\"], [0.1111111111111111, \"#46039f\"], [0.2222222222222222, \"#7201a8\"], [0.3333333333333333, \"#9c179e\"], [0.4444444444444444, \"#bd3786\"], [0.5555555555555556, \"#d8576b\"], [0.6666666666666666, \"#ed7953\"], [0.7777777777777778, \"#fb9f3a\"], [0.8888888888888888, \"#fdca26\"], [1.0, \"#f0f921\"]]}, \"legend\": {\"tracegroupgap\": 0}, \"template\": {\"data\": {\"bar\": [{\"error_x\": {\"color\": \"#2a3f5f\"}, \"error_y\": {\"color\": \"#2a3f5f\"}, \"marker\": {\"line\": {\"color\": \"#E5ECF6\", \"width\": 0.5}}, \"type\": \"bar\"}], \"barpolar\": [{\"marker\": {\"line\": {\"color\": \"#E5ECF6\", \"width\": 0.5}}, \"type\": \"barpolar\"}], \"carpet\": [{\"aaxis\": {\"endlinecolor\": \"#2a3f5f\", \"gridcolor\": \"white\", \"linecolor\": \"white\", \"minorgridcolor\": \"white\", \"startlinecolor\": \"#2a3f5f\"}, \"baxis\": {\"endlinecolor\": \"#2a3f5f\", \"gridcolor\": \"white\", \"linecolor\": \"white\", \"minorgridcolor\": \"white\", \"startlinecolor\": \"#2a3f5f\"}, \"type\": \"carpet\"}], \"choropleth\": [{\"colorbar\": {\"outlinewidth\": 0, \"ticks\": \"\"}, \"type\": \"choropleth\"}], \"contour\": [{\"colorbar\": {\"outlinewidth\": 0, \"ticks\": \"\"}, \"colorscale\": [[0.0, \"#0d0887\"], [0.1111111111111111, \"#46039f\"], [0.2222222222222222, \"#7201a8\"], [0.3333333333333333, \"#9c179e\"], [0.4444444444444444, \"#bd3786\"], [0.5555555555555556, \"#d8576b\"], [0.6666666666666666, \"#ed7953\"], [0.7777777777777778, \"#fb9f3a\"], [0.8888888888888888, \"#fdca26\"], [1.0, \"#f0f921\"]], \"type\": \"contour\"}], \"contourcarpet\": [{\"colorbar\": {\"outlinewidth\": 0, \"ticks\": \"\"}, \"type\": \"contourcarpet\"}], \"heatmap\": [{\"colorbar\": {\"outlinewidth\": 0, \"ticks\": \"\"}, \"colorscale\": [[0.0, \"#0d0887\"], [0.1111111111111111, \"#46039f\"], [0.2222222222222222, \"#7201a8\"], [0.3333333333333333, \"#9c179e\"], [0.4444444444444444, \"#bd3786\"], [0.5555555555555556, \"#d8576b\"], [0.6666666666666666, \"#ed7953\"], [0.7777777777777778, \"#fb9f3a\"], [0.8888888888888888, \"#fdca26\"], [1.0, \"#f0f921\"]], \"type\": \"heatmap\"}], \"heatmapgl\": [{\"colorbar\": {\"outlinewidth\": 0, \"ticks\": \"\"}, \"colorscale\": [[0.0, \"#0d0887\"], [0.1111111111111111, \"#46039f\"], [0.2222222222222222, \"#7201a8\"], [0.3333333333333333, \"#9c179e\"], [0.4444444444444444, \"#bd3786\"], [0.5555555555555556, \"#d8576b\"], [0.6666666666666666, \"#ed7953\"], [0.7777777777777778, \"#fb9f3a\"], [0.8888888888888888, \"#fdca26\"], [1.0, \"#f0f921\"]], \"type\": \"heatmapgl\"}], \"histogram\": [{\"marker\": {\"colorbar\": {\"outlinewidth\": 0, \"ticks\": \"\"}}, \"type\": \"histogram\"}], \"histogram2d\": [{\"colorbar\": {\"outlinewidth\": 0, \"ticks\": \"\"}, \"colorscale\": [[0.0, \"#0d0887\"], [0.1111111111111111, \"#46039f\"], [0.2222222222222222, \"#7201a8\"], [0.3333333333333333, \"#9c179e\"], [0.4444444444444444, \"#bd3786\"], [0.5555555555555556, \"#d8576b\"], [0.6666666666666666, \"#ed7953\"], [0.7777777777777778, \"#fb9f3a\"], [0.8888888888888888, \"#fdca26\"], [1.0, \"#f0f921\"]], \"type\": \"histogram2d\"}], \"histogram2dcontour\": [{\"colorbar\": {\"outlinewidth\": 0, \"ticks\": \"\"}, \"colorscale\": [[0.0, \"#0d0887\"], [0.1111111111111111, \"#46039f\"], [0.2222222222222222, \"#7201a8\"], [0.3333333333333333, \"#9c179e\"], [0.4444444444444444, \"#bd3786\"], [0.5555555555555556, \"#d8576b\"], [0.6666666666666666, \"#ed7953\"], [0.7777777777777778, \"#fb9f3a\"], [0.8888888888888888, \"#fdca26\"], [1.0, \"#f0f921\"]], \"type\": \"histogram2dcontour\"}], \"mesh3d\": [{\"colorbar\": {\"outlinewidth\": 0, \"ticks\": \"\"}, \"type\": \"mesh3d\"}], \"parcoords\": [{\"line\": {\"colorbar\": {\"outlinewidth\": 0, \"ticks\": \"\"}}, \"type\": \"parcoords\"}], \"pie\": [{\"automargin\": true, \"type\": \"pie\"}], \"scatter\": [{\"marker\": {\"colorbar\": {\"outlinewidth\": 0, \"ticks\": \"\"}}, \"type\": \"scatter\"}], \"scatter3d\": [{\"line\": {\"colorbar\": {\"outlinewidth\": 0, \"ticks\": \"\"}}, \"marker\": {\"colorbar\": {\"outlinewidth\": 0, \"ticks\": \"\"}}, \"type\": \"scatter3d\"}], \"scattercarpet\": [{\"marker\": {\"colorbar\": {\"outlinewidth\": 0, \"ticks\": \"\"}}, \"type\": \"scattercarpet\"}], \"scattergeo\": [{\"marker\": {\"colorbar\": {\"outlinewidth\": 0, \"ticks\": \"\"}}, \"type\": \"scattergeo\"}], \"scattergl\": [{\"marker\": {\"colorbar\": {\"outlinewidth\": 0, \"ticks\": \"\"}}, \"type\": \"scattergl\"}], \"scattermapbox\": [{\"marker\": {\"colorbar\": {\"outlinewidth\": 0, \"ticks\": \"\"}}, \"type\": \"scattermapbox\"}], \"scatterpolar\": [{\"marker\": {\"colorbar\": {\"outlinewidth\": 0, \"ticks\": \"\"}}, \"type\": \"scatterpolar\"}], \"scatterpolargl\": [{\"marker\": {\"colorbar\": {\"outlinewidth\": 0, \"ticks\": \"\"}}, \"type\": \"scatterpolargl\"}], \"scatterternary\": [{\"marker\": {\"colorbar\": {\"outlinewidth\": 0, \"ticks\": \"\"}}, \"type\": \"scatterternary\"}], \"surface\": [{\"colorbar\": {\"outlinewidth\": 0, \"ticks\": \"\"}, \"colorscale\": [[0.0, \"#0d0887\"], [0.1111111111111111, \"#46039f\"], [0.2222222222222222, \"#7201a8\"], [0.3333333333333333, \"#9c179e\"], [0.4444444444444444, \"#bd3786\"], [0.5555555555555556, \"#d8576b\"], [0.6666666666666666, \"#ed7953\"], [0.7777777777777778, \"#fb9f3a\"], [0.8888888888888888, \"#fdca26\"], [1.0, \"#f0f921\"]], \"type\": \"surface\"}], \"table\": [{\"cells\": {\"fill\": {\"color\": \"#EBF0F8\"}, \"line\": {\"color\": \"white\"}}, \"header\": {\"fill\": {\"color\": \"#C8D4E3\"}, \"line\": {\"color\": \"white\"}}, \"type\": \"table\"}]}, \"layout\": {\"annotationdefaults\": {\"arrowcolor\": \"#2a3f5f\", \"arrowhead\": 0, \"arrowwidth\": 1}, \"coloraxis\": {\"colorbar\": {\"outlinewidth\": 0, \"ticks\": \"\"}}, \"colorscale\": {\"diverging\": [[0, \"#8e0152\"], [0.1, \"#c51b7d\"], [0.2, \"#de77ae\"], [0.3, \"#f1b6da\"], [0.4, \"#fde0ef\"], [0.5, \"#f7f7f7\"], [0.6, \"#e6f5d0\"], [0.7, \"#b8e186\"], [0.8, \"#7fbc41\"], [0.9, \"#4d9221\"], [1, \"#276419\"]], \"sequential\": [[0.0, \"#0d0887\"], [0.1111111111111111, \"#46039f\"], [0.2222222222222222, \"#7201a8\"], [0.3333333333333333, \"#9c179e\"], [0.4444444444444444, \"#bd3786\"], [0.5555555555555556, \"#d8576b\"], [0.6666666666666666, \"#ed7953\"], [0.7777777777777778, \"#fb9f3a\"], [0.8888888888888888, \"#fdca26\"], [1.0, \"#f0f921\"]], \"sequentialminus\": [[0.0, \"#0d0887\"], [0.1111111111111111, \"#46039f\"], [0.2222222222222222, \"#7201a8\"], [0.3333333333333333, \"#9c179e\"], [0.4444444444444444, \"#bd3786\"], [0.5555555555555556, \"#d8576b\"], [0.6666666666666666, \"#ed7953\"], [0.7777777777777778, \"#fb9f3a\"], [0.8888888888888888, \"#fdca26\"], [1.0, \"#f0f921\"]]}, \"colorway\": [\"#636efa\", \"#EF553B\", \"#00cc96\", \"#ab63fa\", \"#FFA15A\", \"#19d3f3\", \"#FF6692\", \"#B6E880\", \"#FF97FF\", \"#FECB52\"], \"font\": {\"color\": \"#2a3f5f\"}, \"geo\": {\"bgcolor\": \"white\", \"lakecolor\": \"white\", \"landcolor\": \"#E5ECF6\", \"showlakes\": true, \"showland\": true, \"subunitcolor\": \"white\"}, \"hoverlabel\": {\"align\": \"left\"}, \"hovermode\": \"closest\", \"mapbox\": {\"style\": \"light\"}, \"paper_bgcolor\": \"white\", \"plot_bgcolor\": \"#E5ECF6\", \"polar\": {\"angularaxis\": {\"gridcolor\": \"white\", \"linecolor\": \"white\", \"ticks\": \"\"}, \"bgcolor\": \"#E5ECF6\", \"radialaxis\": {\"gridcolor\": \"white\", \"linecolor\": \"white\", \"ticks\": \"\"}}, \"scene\": {\"xaxis\": {\"backgroundcolor\": \"#E5ECF6\", \"gridcolor\": \"white\", \"gridwidth\": 2, \"linecolor\": \"white\", \"showbackground\": true, \"ticks\": \"\", \"zerolinecolor\": \"white\"}, \"yaxis\": {\"backgroundcolor\": \"#E5ECF6\", \"gridcolor\": \"white\", \"gridwidth\": 2, \"linecolor\": \"white\", \"showbackground\": true, \"ticks\": \"\", \"zerolinecolor\": \"white\"}, \"zaxis\": {\"backgroundcolor\": \"#E5ECF6\", \"gridcolor\": \"white\", \"gridwidth\": 2, \"linecolor\": \"white\", \"showbackground\": true, \"ticks\": \"\", \"zerolinecolor\": \"white\"}}, \"shapedefaults\": {\"line\": {\"color\": \"#2a3f5f\"}}, \"ternary\": {\"aaxis\": {\"gridcolor\": \"white\", \"linecolor\": \"white\", \"ticks\": \"\"}, \"baxis\": {\"gridcolor\": \"white\", \"linecolor\": \"white\", \"ticks\": \"\"}, \"bgcolor\": \"#E5ECF6\", \"caxis\": {\"gridcolor\": \"white\", \"linecolor\": \"white\", \"ticks\": \"\"}}, \"title\": {\"x\": 0.05}, \"xaxis\": {\"automargin\": true, \"gridcolor\": \"white\", \"linecolor\": \"white\", \"ticks\": \"\", \"title\": {\"standoff\": 15}, \"zerolinecolor\": \"white\", \"zerolinewidth\": 2}, \"yaxis\": {\"automargin\": true, \"gridcolor\": \"white\", \"linecolor\": \"white\", \"ticks\": \"\", \"title\": {\"standoff\": 15}, \"zerolinecolor\": \"white\", \"zerolinewidth\": 2}}}, \"title\": {\"text\": \"Bigrams- Ajovy Replies\"}, \"xaxis\": {\"anchor\": \"y\", \"domain\": [0.0, 1.0], \"title\": {\"text\": \"x\"}}, \"yaxis\": {\"anchor\": \"x\", \"domain\": [0.0, 1.0], \"title\": {\"text\": \"Words\"}}},\n",
              "                        {\"responsive\": true}\n",
              "                    ).then(function(){\n",
              "                            \n",
              "var gd = document.getElementById('93a639ad-6ed8-47ba-ad0a-23ce0f524ec1');\n",
              "var x = new MutationObserver(function (mutations, observer) {{\n",
              "        var display = window.getComputedStyle(gd).display;\n",
              "        if (!display || display === 'none') {{\n",
              "            console.log([gd, 'removed!']);\n",
              "            Plotly.purge(gd);\n",
              "            observer.disconnect();\n",
              "        }}\n",
              "}});\n",
              "\n",
              "// Listen for the removal of the full notebook cells\n",
              "var notebookContainer = gd.closest('#notebook-container');\n",
              "if (notebookContainer) {{\n",
              "    x.observe(notebookContainer, {childList: true});\n",
              "}}\n",
              "\n",
              "// Listen for the clearing of the current output cell\n",
              "var outputEl = gd.closest('.output');\n",
              "if (outputEl) {{\n",
              "    x.observe(outputEl, {childList: true});\n",
              "}}\n",
              "\n",
              "                        })\n",
              "                };\n",
              "                \n",
              "            </script>\n",
              "        </div>\n",
              "</body>\n",
              "</html>"
            ]
          },
          "metadata": {
            "tags": []
          }
        }
      ]
    },
    {
      "cell_type": "markdown",
      "metadata": {
        "id": "-0GGcLW0Uo9g"
      },
      "source": [
        "### Part 7: LDA Modeling\n",
        "\n",
        "LDA is an unsupervised clustering algorithm that classifies words in a document as a topic. It assumes a multi-nominal distribution, where the words in the document are assumed to be related to one another. I took the extra step to stem and lemmatize the words in the post and replies document. I had LDA cluster the documents into five categories. Below shows the steps and results.\n",
        "\n",
        "#### LDA Modeling for Posts\n"
      ]
    },
    {
      "cell_type": "code",
      "metadata": {
        "id": "ruYGRkRQr4Xv"
      },
      "source": [
        "# https://towardsdatascience.com/nlp-extracting-the-main-topics-from-your-dataset-using-lda-in-minutes-21486f5aa925\n",
        "# https://www.datacamp.com/community/tutorials/stemming-lemmatization-python\n",
        "\n",
        "# lemmatize and stem the words\n",
        "def lemmatize_stemming(doc):\n",
        "    stemmer = SnowballStemmer(\"english\",ignore_stopwords=True)\n",
        "    return [stemmer.stem(word) for word in doc if len(word) >= 3]\n",
        "\n",
        "processed_post_doc = lemmatize_stemming(post_doc)"
      ],
      "execution_count": null,
      "outputs": []
    },
    {
      "cell_type": "code",
      "metadata": {
        "colab": {
          "base_uri": "https://localhost:8080/"
        },
        "id": "nkGQZS9JswYK",
        "outputId": "f1881130-760a-4e90-b8c0-6c027af21274"
      },
      "source": [
        "print('preprocessed:',processed_post_doc[0:5], '\\nnon-processed:',post_doc[0:5])"
      ],
      "execution_count": null,
      "outputs": [
        {
          "output_type": "stream",
          "text": [
            "preprocessed: ['want', 'updat', 'person', 'experi', 'far'] \n",
            "non-processed: ['wanted', 'update', 'personal', 'experience', 'far']\n"
          ],
          "name": "stdout"
        }
      ]
    },
    {
      "cell_type": "code",
      "metadata": {
        "id": "YXIdtIF8Utit"
      },
      "source": [
        "# https://towardsdatascience.com/end-to-end-topic-modeling-in-python-latent-dirichlet-allocation-lda-35ce4ed6b3e0\n",
        "# prepare corpus\n",
        "id2word = corpora.Dictionary([processed_post_doc])\n",
        "texts = processed_post_doc\n",
        "corpus = [id2word.doc2bow(text.split()) for text in texts]"
      ],
      "execution_count": null,
      "outputs": []
    },
    {
      "cell_type": "code",
      "metadata": {
        "id": "SVE2ZPtlV5Dr"
      },
      "source": [
        "# run LDA\n",
        "num_topics = 5\n",
        "lda_model = gensim.models.LdaMulticore(corpus=corpus,\n",
        "                                       id2word=id2word,\n",
        "                                       num_topics=num_topics)\n",
        "doc_lda = lda_model[corpus]"
      ],
      "execution_count": null,
      "outputs": []
    },
    {
      "cell_type": "code",
      "metadata": {
        "id": "sei_GgdjWFiG"
      },
      "source": [
        "# https://stackoverflow.com/questions/60598837/html-to-image-using-python/60598918\n",
        "# output results\n",
        "output = pyLDAvis.gensim.prepare(lda_model, corpus, id2word)\n",
        "pyLDAvis.save_html(output, 'lda_posts.html')\n",
        "IPython.display.HTML(filename=\"lda_posts.html\")"
      ],
      "execution_count": null,
      "outputs": []
    },
    {
      "cell_type": "markdown",
      "metadata": {
        "id": "s5-Zr-0u71Bs"
      },
      "source": [
        "![lda_posts.PNG](data:image/png;base64,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)"
      ]
    },
    {
      "cell_type": "markdown",
      "metadata": {
        "id": "mPOXK3Qta9Pt"
      },
      "source": [
        "#### LDA Modeling for Replies"
      ]
    },
    {
      "cell_type": "code",
      "metadata": {
        "colab": {
          "base_uri": "https://localhost:8080/"
        },
        "id": "Bmyy2kx2yzQL",
        "outputId": "1c6717b5-f4d5-4bee-b161-70dfe5a8930a"
      },
      "source": [
        "# lemmatize and stem replies\n",
        "processed_replies_doc = lemmatize_stemming(replies_doc)\n",
        "print('preprocessed:',processed_replies_doc[0:5], '\\nnon-processed:',replies_doc[0:5])"
      ],
      "execution_count": null,
      "outputs": [
        {
          "output_type": "stream",
          "text": [
            "preprocessed: ['great', 'hope', 'continu', 'work', 'well'] \n",
            "non-processed: ['great', 'hope', 'continues', 'work', 'well']\n"
          ],
          "name": "stdout"
        }
      ]
    },
    {
      "cell_type": "code",
      "metadata": {
        "id": "bZNZ9kePbDBz"
      },
      "source": [
        "# https://towardsdatascience.com/end-to-end-topic-modeling-in-python-latent-dirichlet-allocation-lda-35ce4ed6b3e0\n",
        "# prepare corpus\n",
        "id2word2 = corpora.Dictionary([processed_replies_doc])\n",
        "texts2 = processed_replies_doc\n",
        "corpus2 = [id2word.doc2bow(text.split()) for text in texts2]"
      ],
      "execution_count": null,
      "outputs": []
    },
    {
      "cell_type": "code",
      "metadata": {
        "id": "arDa9BLWbJ7b"
      },
      "source": [
        "# run LDA\n",
        "num_topics = 3\n",
        "lda_model2 = gensim.models.LdaMulticore(corpus=corpus2,\n",
        "                                       id2word=id2word2,\n",
        "                                       num_topics=num_topics)\n",
        "\n",
        "doc_lda2 = lda_model2[corpus]"
      ],
      "execution_count": null,
      "outputs": []
    },
    {
      "cell_type": "code",
      "metadata": {
        "id": "SGUi6GthbWQS"
      },
      "source": [
        "output2 = pyLDAvis.gensim.prepare(lda_model2, corpus2, id2word2)\n",
        "pyLDAvis.save_html(output2, 'lda_replies.html')\n",
        "IPython.display.HTML(filename='lda_replies.html')"
      ],
      "execution_count": null,
      "outputs": []
    },
    {
      "cell_type": "markdown",
      "metadata": {
        "id": "_iucLLZJ-N2c"
      },
      "source": [
        "![lda_replies.PNG](data:image/png;base64,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)"
      ]
    },
    {
      "cell_type": "markdown",
      "metadata": {
        "id": "0My9zayKw-0D"
      },
      "source": [
        "### Part 8: Brief Analysis of Results\n",
        "\n",
        "#### Unigrams and bigrams\n",
        "\n",
        "#### Unigram Word Frequencies\n",
        "\n",
        "1. Posts: A variety of words appear. I notice words indicating sharing a narrative \"share, reports, gave, believe, saying, etc\" frequently occur in posts. Migraine related words like \"topiramate, aches, dizziness, etc\" are common as well.\n",
        "\n",
        "2. Replies: More descriptive words of using cgrp medications like \"belly, thigh, loading, etc\" pertain to how patients inject themselves monthly.\n",
        "\n",
        "#### Bigrams\n",
        "\n",
        "1. Aimovig posts: Many words are about \"shots and first\", meaning the first on-loading dose. \n",
        "\n",
        "2. Aimovig replies: Personal experience from Aimovig, how it worked \"amazing, worked\" and injections \"injections, switched\"\n",
        "\n",
        "3. Emgality posts: Mainly mentions a competing drug of Ajovy\n",
        "\n",
        "4. Emgality replies: Mentions words like \"pain, panic, painful\" and injections\n",
        "\n",
        "5. Ajovy posts: A collection of words including \"lifesaver, Emgality, syringe, etc\". No distinct pattern.\n",
        "\n",
        "6. Ajovy replies: Mainly mentions the drug Emgality\n",
        "\n",
        "#### LDA\n",
        "\n",
        "LDA clusters for posts: \n",
        "\n",
        "1. Clusters 2 and 5: Related to the onboarding injection of Aimovig. Cluster 2 seems to be related to the semantics self-injections and cluster 5 is related to receiving consultations from physicians.\n",
        "\n",
        "2. Cluster 3: Pertains to side effects\n",
        "\n",
        "3. Cluster 4: Side effects in comparision to other migraine treatments (botox, emgality)\n",
        "\n",
        "4. Cluster 1: Effectiveness of Aimovig\n",
        "\n",
        "LDA clusters for replies:\n",
        "\n",
        "1. Cluster 1: Appears to indiciate emotional reactions to cgrp experiences\n",
        "\n",
        "2. Cluster 2: Mentions several types of migraine remedies (amitriptylin aimovig, botox, inhibitor, eremerg). Also mentions experiences and descriptive words about the effects of drugs.\n",
        "\n",
        "3. Cluster 3: Seems to categorize questions surrounding the drug, such as \"clarify, nurse, safe, question, and covid\""
      ]
    }
  ]
}